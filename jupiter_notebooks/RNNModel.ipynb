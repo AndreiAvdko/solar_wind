{
 "cells": [
  {
   "cell_type": "markdown",
   "id": "00502fd4-251e-45b3-a9c3-8e25fb979228",
   "metadata": {},
   "source": [
    "## Импорты"
   ]
  },
  {
   "cell_type": "code",
   "execution_count": 10,
   "id": "9cdefa1d-961a-4528-ab0f-78613b68d0eb",
   "metadata": {},
   "outputs": [],
   "source": [
    "# импортируем необходимые библиотеки, классы и функции\n",
    "import os\n",
    "from datetime import datetime\n",
    "import winsound\n",
    "from etna.core import load\n",
    "from etna.analysis import plot_backtest, plot_forecast\n",
    "import torch\n",
    "import random\n",
    "from functools import partial\n",
    "from pathlib import Path\n",
    "import numpy as np\n",
    "\n",
    "import optuna\n",
    "from typing import Optional\n",
    "import typer\n",
    "from etna.loggers import WandbLogger\n",
    "from etna.loggers import tslogger\n",
    "\n",
    "import pandas as pd\n",
    "from etna.datasets import TSDataset\n",
    "from etna.datasets import generate_ar_df\n",
    "from etna.metrics import (MAE, MSE, SMAPE, Sign)\n",
    "from etna.models.nn import (RNNModel)\n",
    "from etna.models.nn.utils import PytorchForecastingDatasetBuilder\n",
    "from pytorch_forecasting.data import GroupNormalizer\n",
    "from etna.pipeline import Pipeline, AutoRegressivePipeline\n",
    "from etna.transforms import (LagTransform, \n",
    "                             LogTransform,\n",
    "                             MeanTransform,\n",
    "                             LinearTrendTransform,\n",
    "                             TrendTransform)\n",
    "from etna.transforms import (SegmentEncoderTransform,\n",
    "                             StandardScalerTransform, \n",
    "                             MinMaxScalerTransform,\n",
    "                             RobustScalerTransform,\n",
    "                             TimeSeriesImputerTransform,\n",
    "                             DateFlagsTransform)\n",
    "\n",
    "from etna.transforms.decomposition import RupturesChangePointsModel\n",
    "from ruptures.detection import Binseg\n",
    "from etna.datasets import generate_ar_df\n",
    "import warnings\n",
    "warnings.filterwarnings('ignore')"
   ]
  },
  {
   "cell_type": "markdown",
   "id": "d6ec4793-02ca-47c1-b7e2-c78a2d301058",
   "metadata": {},
   "source": [
    "## Код для проверки работы GPU"
   ]
  },
  {
   "cell_type": "code",
   "execution_count": 11,
   "id": "021d8927-1bba-48b1-9b6e-81cdc1773fee",
   "metadata": {},
   "outputs": [
    {
     "name": "stdout",
     "output_type": "stream",
     "text": [
      "True\n"
     ]
    }
   ],
   "source": [
    "import torch\n",
    "print(torch.cuda.is_available())\n",
    "torch.set_float32_matmul_precision('medium')"
   ]
  },
  {
   "cell_type": "markdown",
   "id": "9dbd118b-dd69-47f8-ac2b-e61e28019018",
   "metadata": {},
   "source": [
    "## Пути к файлам модели и данных на диске и общие переменные"
   ]
  },
  {
   "cell_type": "code",
   "execution_count": 12,
   "id": "f39e7c40-39c7-4fe7-9a1b-4652dc032afe",
   "metadata": {},
   "outputs": [],
   "source": [
    "TRAIN_DATASET_PATH = \"C:\\\\Users\\\\andre\\\\OneDrive\\\\Рабочий стол\\\\traindataset.csv\"\n",
    "MODEL_SAVING_PATH = \"C:\\\\Users\\\\andre\\\\OneDrive\\\\Рабочий стол\\\\ВКР\\\\Модели\\\\neural_network.zip\"\n",
    "USING_MEASURE_POINTS =  166560 # 17532\n",
    "HORIZON = 72\n",
    "VALIDATION_MEASURE_POINTS_END = 171400+72 # 175320"
   ]
  },
  {
   "cell_type": "markdown",
   "id": "b3bf38c4-3e97-4fd5-abaa-9fb3595ba4c2",
   "metadata": {},
   "source": [
    "## Функция загрузки данных и преобразования в формат ETNA"
   ]
  },
  {
   "cell_type": "code",
   "execution_count": 13,
   "id": "cdcd4e95-5e04-4185-912c-c08ff4d8b913",
   "metadata": {},
   "outputs": [],
   "source": [
    "def get_etna_dataframe(sw_path, using_measure_points, target_list, regressors_list, with_solar_cycle_order_day_feature):\n",
    "  # Получаем очищенные данные\n",
    "  df = pd.read_csv(sw_path)\n",
    "  df = df.head(using_measure_points)\n",
    "  # преобразовываем столбец timestamp в столбец с временными метками\n",
    "  df['timestamp'] = pd.to_datetime(df['timestamp'])\n",
    "\n",
    "  # создаем дополнительную фичу в виде порядкового дня солнечного цикла\n",
    "  if with_solar_cycle_order_day_feature:\n",
    "      df = create_solar_cycle_order_day_feature(df=df, solar_cycles=solar_cycles)\n",
    "      regressors_list.append('solar_cycle_day')\n",
    "  \n",
    "  df_target = df[target_list]\n",
    "  df_regressors = df[regressors_list]\n",
    "  # Подготавливаем регрессоры\n",
    "  if regressors_list:\n",
    "    df_regressors.columns = [\"timestamp\"] + [f\"regressor_{i}_{regressors_list[i + 1]}\" for i in range(len(regressors_list) - 1)]\n",
    "    df_regressors[\"segment\"] = \"segment_0\"\n",
    "    df_regressors = TSDataset.to_dataset(df_regressors)\n",
    "  # подготавливаем dataframe с целевой переменной\n",
    "  df_target['target'] = df_target['v_plasma']\n",
    "  df_target.drop(columns=['v_plasma'], inplace=True)\n",
    "  df_target['segment'] = 'segment_0'\n",
    "  # превращаем датафрейм\n",
    "  # с плоским индексом в датафрейм с мультииндексом\n",
    "  df_target = TSDataset.to_dataset(df_target)\n",
    "  # превращаем датафрейм в объект TSDataset\n",
    "  if not regressors_list:\n",
    "    ts_target = TSDataset(df_target, freq='h')\n",
    "  else:\n",
    "    ts_target = TSDataset(df_target, freq='h', df_exog=df_regressors)\n",
    "  # выполняем импутацию пропусков\n",
    "  imputer = TimeSeriesImputerTransform(in_column='target',\n",
    "                                      strategy='running_mean')\n",
    "  ts_target.fit_transform([imputer])\n",
    "\n",
    "  if regressors_list:\n",
    "    for i in range(len(regressors_list)-1):\n",
    "      imputer = TimeSeriesImputerTransform(in_column=f\"regressor_{i}\",\n",
    "                                      strategy='running_mean')\n",
    "      ts_target.fit_transform([imputer])\n",
    "\n",
    "  return ts_target"
   ]
  },
  {
   "cell_type": "markdown",
   "id": "f07e1a75-1634-4855-8810-98f8e37c16f9",
   "metadata": {},
   "source": [
    "## Функция добавления порядкового дня солнечного цикла в качестве экзогенной переменной"
   ]
  },
  {
   "cell_type": "code",
   "execution_count": 14,
   "id": "9ac54894-c33a-422c-b9d1-dddfe557ddbb",
   "metadata": {},
   "outputs": [],
   "source": [
    "# Данные солнечных циклов\n",
    "solar_cycles = [\n",
    "    {\"cycle\": 1, \"start\": \"1755-02\"},\n",
    "    {\"cycle\": 2, \"start\": \"1766-06\"},\n",
    "    {\"cycle\": 3, \"start\": \"1775-06\"},\n",
    "    {\"cycle\": 4, \"start\": \"1784-09\"},\n",
    "    {\"cycle\": 5, \"start\": \"1798-04\"},\n",
    "    {\"cycle\": 6, \"start\": \"1810-07\"},\n",
    "    {\"cycle\": 7, \"start\": \"1823-05\"},\n",
    "    {\"cycle\": 8, \"start\": \"1833-11\"},\n",
    "    {\"cycle\": 9, \"start\": \"1843-07\"},\n",
    "    {\"cycle\": 10, \"start\": \"1855-12\"},\n",
    "    {\"cycle\": 11, \"start\": \"1867-03\"},\n",
    "    {\"cycle\": 12, \"start\": \"1878-12\"},\n",
    "    {\"cycle\": 13, \"start\": \"1890-03\"},\n",
    "    {\"cycle\": 14, \"start\": \"1902-01\"},\n",
    "    {\"cycle\": 15, \"start\": \"1913-07\"},\n",
    "    {\"cycle\": 16, \"start\": \"1923-08\"},\n",
    "    {\"cycle\": 17, \"start\": \"1933-09\"},\n",
    "    {\"cycle\": 18, \"start\": \"1944-02\"},\n",
    "    {\"cycle\": 19, \"start\": \"1954-04\"},\n",
    "    {\"cycle\": 20, \"start\": \"1964-10\"},\n",
    "    {\"cycle\": 21, \"start\": \"1976-03\"},\n",
    "    {\"cycle\": 22, \"start\": \"1986-09\"},\n",
    "    {\"cycle\": 23, \"start\": \"1996-08\"},\n",
    "    {\"cycle\": 24, \"start\": \"2008-12\"},\n",
    "    {\"cycle\": 25, \"start\": \"2019-12\"}\n",
    "]"
   ]
  },
  {
   "cell_type": "code",
   "execution_count": 15,
   "id": "10101419-4e2a-4841-ae66-4b0fa0e0a10f",
   "metadata": {},
   "outputs": [],
   "source": [
    "def create_solar_cycle_order_day_feature(df: pd.DataFrame, solar_cycles):\n",
    "    # Преобразование строковых дат в datetime\n",
    "    for cycle in solar_cycles:\n",
    "        cycle['start'] = datetime.strptime(cycle['start'], '%Y-%m')\n",
    "    \n",
    "    # Функция для определения солнечного цикла и порядкового номера дня\n",
    "    def get_solar_cycle_day(timestamp):\n",
    "        for i in range(len(solar_cycles)-1, -1, -1):\n",
    "            if timestamp >= solar_cycles[i]['start']:\n",
    "                cycle_day = (timestamp - solar_cycles[i]['start']).days + 1\n",
    "                return cycle_day\n",
    "        return None\n",
    "    \n",
    "    # Применение функции к DataFrame\n",
    "    df['solar_cycle_day'] = df['timestamp'].apply(get_solar_cycle_day)\n",
    "    return df"
   ]
  },
  {
   "cell_type": "markdown",
   "id": "946ba8c0-6eec-4523-b36f-ecf9bf4d225d",
   "metadata": {},
   "source": [
    "## Функция отображения статистик по TSData и Pipeline"
   ]
  },
  {
   "cell_type": "code",
   "execution_count": 16,
   "id": "f6ec02e1-ff28-41b5-8b2d-6e01b51cd253",
   "metadata": {},
   "outputs": [],
   "source": [
    "def print_TSDataset_statistic(df: TSDataset):\n",
    "    print(f\"*** Статистика по набору данных: ***\\n {df.describe()} ]\\n\\n\")\n",
    "    print(\"Минимальные значения:\")\n",
    "    print(df.df.min())\n",
    "    print(\"\\nМаксимальные значения:\")\n",
    "    print(df.df.max())\n",
    "\n",
    "def print_pipeline_transform_and_regressors(pipeline, regressors):\n",
    "    print(\"\\nСписок преобразований пайплайна:\\n\")\n",
    "    for transform in pipeline.transforms:\n",
    "        print(transform)\n",
    "    print(f\"\\n*** Переменные регрессоры: ***\\n {regressors_list} \\n \\n\")\n",
    "\n",
    "def play_end_sound():\n",
    "    winsound.PlaySound('SystemAsterisk', winsound.SND_FILENAME)\n",
    "    winsound.PlaySound('SystemAsterisk', winsound.SND_FILENAME)\n",
    "    winsound.PlaySound('SystemAsterisk', winsound.SND_FILENAME)"
   ]
  },
  {
   "cell_type": "markdown",
   "id": "80bb44bc-6213-4fb6-b6da-1808f140d486",
   "metadata": {},
   "source": [
    "## Функция создания модели, трансформеров, пайплайна и обучения модели"
   ]
  },
  {
   "cell_type": "code",
   "execution_count": 17,
   "id": "03feb0ad-5662-4f3b-abf7-f8d44c3a5000",
   "metadata": {},
   "outputs": [],
   "source": [
    "def set_seed(seed: int = 42):\n",
    "    random.seed(seed)\n",
    "    np.random.seed(seed)\n",
    "\n",
    "\n",
    "def learn_model(horizon,\n",
    "                input_size,\n",
    "                lags: int = 10,\n",
    "                with_lags: bool = False,\n",
    "                target_list: list = None, \n",
    "                regressors_list: list = None,\n",
    "                with_median: bool = False,\n",
    "                median_window_size: int = 80,\n",
    "                ts: TSDataset = None,\n",
    "                with_backtest = True,\n",
    "                with_saving_model: bool = False,\n",
    "               ):\n",
    "    set_seed()\n",
    "    transforms=[\n",
    "             MinMaxScalerTransform(in_column=None),\n",
    "    ]\n",
    "    # if with_lags:\n",
    "    #     transforms.append(LagTransform(in_column=\"target\",\n",
    "    #                                    lags=list(range(horizon, horizon + lags)), \n",
    "    #                                    out_column=\"lag_target\"))\n",
    "    # if with_median:\n",
    "    #     MeanTransform(in_column='target',\n",
    "    #                   window=median_window_size, \n",
    "    #                   out_column='mean_target')\n",
    "\n",
    "    # # если список регрессоров не пуст, то добавляем лаги для них\n",
    "    # if regressors_list:\n",
    "    #     if with_lags:\n",
    "    #         for i in range(len(regressors_list)-1):\n",
    "    #             # не добавляем лаги для номера дня в солнечном цикле\n",
    "    #             if regressors_list[i + 1] != 'solar_cycle_day' and regressors_list[i + 1] != None:\n",
    "    #                 lags_regressor = LagTransform(in_column=f\"regressor_{i}_{regressors_list[i + 1]}\",\n",
    "    #                                               lags=list(range(horizon, horizon+lags)),\n",
    "    #                                               out_column=f\"lag_regressor_{i}_{regressors_list[i + 1]}\")\n",
    "    #                 transforms.append(lags_regressor)\n",
    "    #     if with_median: \n",
    "    #         for i in range(len(regressors_list)-1):\n",
    "    #             # не создаем медианы для номера дня в солнечном цикле\n",
    "    #             if regressors_list[i + 1] != 'solar_cycle_day' and regressors_list[i + 1] != None:\n",
    "    #                 median_regressor = MeanTransform(in_column=f\"regressor_{i}_{regressors_list[i + 1]}\",\n",
    "    #                                                  window=median_window_size,\n",
    "    #                                                  out_column=f\"median_regressor_{i}_{regressors_list[i + 1]}\")\n",
    "    #                 transforms.append(median_regressor)\n",
    "    \n",
    "    # задаем модель и признаки\n",
    "    pipeline = Pipeline(\n",
    "        model = RNNModel(input_size=input_size,\n",
    "                         decoder_length=horizon,\n",
    "                         encoder_length=2*horizon,\n",
    "                         num_layers=8,\n",
    "                         hidden_size=8,\n",
    "                         lr=0.001,\n",
    "                         test_batch_size=64,\n",
    "                         train_batch_size=64,\n",
    "                         trainer_params=dict(max_epochs=8, # 227\n",
    "                                             gpus=1,\n",
    "                                            ),\n",
    "                                ),\n",
    "        transforms=transforms,\n",
    "        horizon=horizon,\n",
    "        # step=1, # Параметр для использования с AutoregressivePipeline, количество шагов прогнозирования за один раз\n",
    "    )\n",
    "    print(\"\\n*** Запустился pipeline ***\\n\")\n",
    "    if with_backtest:\n",
    "        metrics, forecast_df, fold_info_df = pipeline.backtest(ts=ts, \n",
    "                                      metrics=[MAE(), SMAPE(), MSE()],\n",
    "                                      n_folds=5,\n",
    "                                      aggregate_metrics=True,\n",
    "                                      )\n",
    "    \n",
    "    print_pipeline_transform_and_regressors(pipeline, regressors_list)\n",
    "    print(f\"Параметры модели RNN: {pipeline.model.to_dict}\")\n",
    "    if with_saving_model:\n",
    "        pipeline.fit(ts)\n",
    "        pipeline.save(MODEL_SAVING_PATH)\n",
    "    return metrics, forecast_df, fold_info_df"
   ]
  },
  {
   "cell_type": "markdown",
   "id": "d05e488c-23e5-4575-bf25-835b74e48865",
   "metadata": {},
   "source": [
    "## Запуск обучения"
   ]
  },
  {
   "cell_type": "code",
   "execution_count": 18,
   "id": "456554c9-77df-4f57-8555-0872f47b1bb2",
   "metadata": {},
   "outputs": [
    {
     "name": "stdout",
     "output_type": "stream",
     "text": [
      "*** Статистика по набору данных: ***\n",
      "           start_timestamp       end_timestamp  length  num_missing  \\\n",
      "segments                                                             \n",
      "segment_0      2000-01-01 2018-12-31 23:00:00  166560            0   \n",
      "\n",
      "           num_segments  num_exogs  num_regressors  num_known_future freq  \n",
      "segments                                                                   \n",
      "segment_0             1          5               0                 0    h   ]\n",
      "\n",
      "\n",
      "Минимальные значения:\n",
      "segment    feature              \n",
      "segment_0  regressor_0_AE             3.0\n",
      "           regressor_1_Kp             0.0\n",
      "           regressor_2_R              0.0\n",
      "           regressor_3_Dst         -422.0\n",
      "           regressor_4_B_mag_avg      0.4\n",
      "           target                   233.0\n",
      "dtype: float64\n",
      "\n",
      "Максимальные значения:\n",
      "segment    feature              \n",
      "segment_0  regressor_0_AE           2241.0\n",
      "           regressor_1_Kp              9.0\n",
      "           regressor_2_R             353.0\n",
      "           regressor_3_Dst            77.0\n",
      "           regressor_4_B_mag_avg      62.0\n",
      "           target                   1189.0\n",
      "dtype: float64\n",
      "\n",
      "*** Запустился pipeline ***\n",
      "\n"
     ]
    },
    {
     "name": "stderr",
     "output_type": "stream",
     "text": [
      "GPU available: True (cuda), used: True\n",
      "TPU available: False, using: 0 TPU cores\n",
      "IPU available: False, using: 0 IPUs\n",
      "HPU available: False, using: 0 HPUs\n",
      "LOCAL_RANK: 0 - CUDA_VISIBLE_DEVICES: [0]\n",
      "\n",
      "  | Name       | Type    | Params\n",
      "---------------------------------------\n",
      "0 | loss       | MSELoss | 0     \n",
      "1 | rnn        | LSTM    | 4.5 K \n",
      "2 | projection | Linear  | 9     \n",
      "---------------------------------------\n",
      "4.6 K     Trainable params\n",
      "0         Non-trainable params\n",
      "4.6 K     Total params\n",
      "0.018     Total estimated model params size (MB)\n"
     ]
    },
    {
     "name": "stdout",
     "output_type": "stream",
     "text": [
      "Epoch 6:  49%|████▊     | 1260/2594 [00:10<00:11, 114.55it/s, loss=0.000157]"
     ]
    },
    {
     "name": "stderr",
     "output_type": "stream",
     "text": [
      "IOPub message rate exceeded.\n",
      "The Jupyter server will temporarily stop sending output\n",
      "to the client in order to avoid crashing it.\n",
      "To change this limit, set the config variable\n",
      "`--ServerApp.iopub_msg_rate_limit`.\n",
      "\n",
      "Current values:\n",
      "ServerApp.iopub_msg_rate_limit=1000.0 (msgs/sec)\n",
      "ServerApp.rate_limit_window=3.0 (secs)\n",
      "\n"
     ]
    },
    {
     "name": "stdout",
     "output_type": "stream",
     "text": [
      "Epoch 7:  57%|█████▋    | 1488/2595 [00:12<00:09, 115.94it/s, loss=0.000199]"
     ]
    },
    {
     "name": "stderr",
     "output_type": "stream",
     "text": [
      "IOPub message rate exceeded.\n",
      "The Jupyter server will temporarily stop sending output\n",
      "to the client in order to avoid crashing it.\n",
      "To change this limit, set the config variable\n",
      "`--ServerApp.iopub_msg_rate_limit`.\n",
      "\n",
      "Current values:\n",
      "ServerApp.iopub_msg_rate_limit=1000.0 (msgs/sec)\n",
      "ServerApp.rate_limit_window=3.0 (secs)\n",
      "\n"
     ]
    },
    {
     "name": "stdout",
     "output_type": "stream",
     "text": [
      "Epoch 2:  56%|█████▌    | 1452/2597 [00:12<00:10, 112.71it/s, loss=0.000169]"
     ]
    },
    {
     "name": "stderr",
     "output_type": "stream",
     "text": [
      "IOPub message rate exceeded.\n",
      "The Jupyter server will temporarily stop sending output\n",
      "to the client in order to avoid crashing it.\n",
      "To change this limit, set the config variable\n",
      "`--ServerApp.iopub_msg_rate_limit`.\n",
      "\n",
      "Current values:\n",
      "ServerApp.iopub_msg_rate_limit=1000.0 (msgs/sec)\n",
      "ServerApp.rate_limit_window=3.0 (secs)\n",
      "\n"
     ]
    },
    {
     "name": "stdout",
     "output_type": "stream",
     "text": [
      "Epoch 6:  37%|███▋      | 949/2598 [00:08<00:14, 114.76it/s, loss=0.000177] "
     ]
    },
    {
     "name": "stderr",
     "output_type": "stream",
     "text": [
      "IOPub message rate exceeded.\n",
      "The Jupyter server will temporarily stop sending output\n",
      "to the client in order to avoid crashing it.\n",
      "To change this limit, set the config variable\n",
      "`--ServerApp.iopub_msg_rate_limit`.\n",
      "\n",
      "Current values:\n",
      "ServerApp.iopub_msg_rate_limit=1000.0 (msgs/sec)\n",
      "ServerApp.rate_limit_window=3.0 (secs)\n",
      "\n"
     ]
    }
   ],
   "source": [
    "target_list = ['timestamp',\n",
    "              'v_plasma']\n",
    "\n",
    "regressors_list = [\n",
    "                   'timestamp',\n",
    "                   # 'AU', # + на трендах вниз появились проблемы\n",
    "                   'AE', # +\n",
    "                   'Kp', # +\n",
    "                   # 'n_plasma', # +\n",
    "                   'R', # +\n",
    "                   # 'f107_adj', # +\n",
    "                   'Dst', # +\n",
    "                   'B_mag_avg', # +\n",
    "                   # 'B_mag', # +\n",
    "]\n",
    "\n",
    "ts = get_etna_dataframe(sw_path=TRAIN_DATASET_PATH,\n",
    "                        using_measure_points=USING_MEASURE_POINTS,\n",
    "                        target_list=target_list, \n",
    "                        regressors_list=regressors_list,\n",
    "                        with_solar_cycle_order_day_feature=False)\n",
    "print_TSDataset_statistic(ts)\n",
    "\n",
    "metrics, forecast_df, fold_info = learn_model(horizon = 72,\n",
    "                                              input_size=6,\n",
    "                                              ts = ts,\n",
    "                                              with_lags=False,\n",
    "                                              lags = 5,\n",
    "                                              with_median = False,\n",
    "                                              median_window_size = 80,\n",
    "                                              regressors_list = regressors_list,\n",
    "                                              with_backtest=True,\n",
    "                                              with_saving_model=False)\n",
    "\n",
    "plot_backtest(forecast_df, ts, history_len=72)\n",
    "print(\"\\n*** Метрики обучения по сегментам ***\")\n",
    "print(metrics)\n",
    "play_end_sound()"
   ]
  },
  {
   "cell_type": "markdown",
   "id": "479903d4-f965-4888-8de0-94fa4ccf4e53",
   "metadata": {},
   "source": [
    "## Получение предсказания"
   ]
  },
  {
   "cell_type": "code",
   "execution_count": 83,
   "id": "70f6acb1-4c52-4df0-9a45-d19640b8f468",
   "metadata": {},
   "outputs": [
    {
     "name": "stdout",
     "output_type": "stream",
     "text": [
      "*** Статистика по датасету для прогнозирования ***\n",
      "\n",
      "*** Статистика по набору данных: ***\n",
      "           start_timestamp       end_timestamp  length  num_missing  \\\n",
      "segments                                                             \n",
      "segment_0      2000-01-01 2019-07-21 15:00:00  171400            0   \n",
      "\n",
      "           num_segments  num_exogs  num_regressors  num_known_future freq  \n",
      "segments                                                                   \n",
      "segment_0             1         11               0                 0    h   ]\n",
      "\n",
      "\n",
      "Минимальные значения:\n",
      "segment    feature               \n",
      "segment_0  regressor_0_AL           -2452.00\n",
      "           regressor_10_B_mag_avg       0.40\n",
      "           regressor_1_AU               0.00\n",
      "           regressor_2_AE               3.00\n",
      "           regressor_3_Kp               0.00\n",
      "           regressor_4_p_flow           0.03\n",
      "           regressor_5_n_p              0.10\n",
      "           regressor_6_n_plasma         1.00\n",
      "           regressor_7_R                0.00\n",
      "           regressor_8_f107_adj        64.60\n",
      "           regressor_9_Dst           -422.00\n",
      "           target                     233.00\n",
      "dtype: float64\n",
      "\n",
      "Максимальные значения:\n",
      "segment    feature               \n",
      "segment_0  regressor_0_AL               0.00\n",
      "           regressor_10_B_mag_avg      62.00\n",
      "           regressor_1_AU            1226.00\n",
      "           regressor_2_AE            2241.00\n",
      "           regressor_3_Kp               9.00\n",
      "           regressor_4_p_flow          71.04\n",
      "           regressor_5_n_p            137.20\n",
      "           regressor_6_n_plasma        74.00\n",
      "           regressor_7_R              353.00\n",
      "           regressor_8_f107_adj       325.10\n",
      "           regressor_9_Dst             77.00\n",
      "           target                    1189.00\n",
      "dtype: float64\n",
      "*** Статистика по датасету c настоящими значениями прогноза ***\n",
      "\n",
      "*** Статистика по набору данных: ***\n",
      "           start_timestamp       end_timestamp  length  num_missing  \\\n",
      "segments                                                             \n",
      "segment_0      2000-01-01 2019-07-21 15:00:00  171400            0   \n",
      "\n",
      "           num_segments  num_exogs  num_regressors  num_known_future freq  \n",
      "segments                                                                   \n",
      "segment_0             1         11               0                 0    h   ]\n",
      "\n",
      "\n",
      "Минимальные значения:\n",
      "segment    feature               \n",
      "segment_0  regressor_0_AL           -2452.00\n",
      "           regressor_10_B_mag_avg       0.40\n",
      "           regressor_1_AU               0.00\n",
      "           regressor_2_AE               3.00\n",
      "           regressor_3_Kp               0.00\n",
      "           regressor_4_p_flow           0.03\n",
      "           regressor_5_n_p              0.10\n",
      "           regressor_6_n_plasma         1.00\n",
      "           regressor_7_R                0.00\n",
      "           regressor_8_f107_adj        64.60\n",
      "           regressor_9_Dst           -422.00\n",
      "           target                     233.00\n",
      "dtype: float64\n",
      "\n",
      "Максимальные значения:\n",
      "segment    feature               \n",
      "segment_0  regressor_0_AL               0.00\n",
      "           regressor_10_B_mag_avg      62.00\n",
      "           regressor_1_AU            1226.00\n",
      "           regressor_2_AE            2241.00\n",
      "           regressor_3_Kp               9.00\n",
      "           regressor_4_p_flow          71.04\n",
      "           regressor_5_n_p            137.20\n",
      "           regressor_6_n_plasma        74.00\n",
      "           regressor_7_R              353.00\n",
      "           regressor_8_f107_adj       325.10\n",
      "           regressor_9_Dst             77.00\n",
      "           target                    1189.00\n",
      "dtype: float64\n",
      "\n",
      "Список преобразований пайплайна:\n",
      "\n",
      "LagTransform(in_column = 'target', lags = [72, 73, 74, 75, 76, 77, 78, 79, 80, 81], out_column = 'lag_target', )\n",
      "LagTransform(in_column = 'regressor_0_AL', lags = [72, 73, 74, 75, 76, 77, 78, 79, 80, 81], out_column = 'lag_regressor_0_AL', )\n",
      "LagTransform(in_column = 'regressor_1_AU', lags = [72, 73, 74, 75, 76, 77, 78, 79, 80, 81], out_column = 'lag_regressor_1_AU', )\n",
      "LagTransform(in_column = 'regressor_2_AE', lags = [72, 73, 74, 75, 76, 77, 78, 79, 80, 81], out_column = 'lag_regressor_2_AE', )\n",
      "LagTransform(in_column = 'regressor_3_Kp', lags = [72, 73, 74, 75, 76, 77, 78, 79, 80, 81], out_column = 'lag_regressor_3_Kp', )\n",
      "LagTransform(in_column = 'regressor_4_p_flow', lags = [72, 73, 74, 75, 76, 77, 78, 79, 80, 81], out_column = 'lag_regressor_4_p_flow', )\n",
      "LagTransform(in_column = 'regressor_5_n_p', lags = [72, 73, 74, 75, 76, 77, 78, 79, 80, 81], out_column = 'lag_regressor_5_n_p', )\n",
      "LagTransform(in_column = 'regressor_6_n_plasma', lags = [72, 73, 74, 75, 76, 77, 78, 79, 80, 81], out_column = 'lag_regressor_6_n_plasma', )\n",
      "LagTransform(in_column = 'regressor_7_R', lags = [72, 73, 74, 75, 76, 77, 78, 79, 80, 81], out_column = 'lag_regressor_7_R', )\n",
      "LagTransform(in_column = 'regressor_8_f107_adj', lags = [72, 73, 74, 75, 76, 77, 78, 79, 80, 81], out_column = 'lag_regressor_8_f107_adj', )\n",
      "LagTransform(in_column = 'regressor_9_Dst', lags = [72, 73, 74, 75, 76, 77, 78, 79, 80, 81], out_column = 'lag_regressor_9_Dst', )\n",
      "LagTransform(in_column = 'regressor_10_B_mag_avg', lags = [72, 73, 74, 75, 76, 77, 78, 79, 80, 81], out_column = 'lag_regressor_10_B_mag_avg', )\n",
      "MeanTransform(in_column = 'regressor_0_AL', window = 40, seasonality = 1, alpha = 1, min_periods = 1, fillna = 0, out_column = 'median_regressor_0_AL', )\n",
      "MeanTransform(in_column = 'regressor_1_AU', window = 40, seasonality = 1, alpha = 1, min_periods = 1, fillna = 0, out_column = 'median_regressor_1_AU', )\n",
      "MeanTransform(in_column = 'regressor_2_AE', window = 40, seasonality = 1, alpha = 1, min_periods = 1, fillna = 0, out_column = 'median_regressor_2_AE', )\n",
      "MeanTransform(in_column = 'regressor_3_Kp', window = 40, seasonality = 1, alpha = 1, min_periods = 1, fillna = 0, out_column = 'median_regressor_3_Kp', )\n",
      "MeanTransform(in_column = 'regressor_4_p_flow', window = 40, seasonality = 1, alpha = 1, min_periods = 1, fillna = 0, out_column = 'median_regressor_4_p_flow', )\n",
      "MeanTransform(in_column = 'regressor_5_n_p', window = 40, seasonality = 1, alpha = 1, min_periods = 1, fillna = 0, out_column = 'median_regressor_5_n_p', )\n",
      "MeanTransform(in_column = 'regressor_6_n_plasma', window = 40, seasonality = 1, alpha = 1, min_periods = 1, fillna = 0, out_column = 'median_regressor_6_n_plasma', )\n",
      "MeanTransform(in_column = 'regressor_7_R', window = 40, seasonality = 1, alpha = 1, min_periods = 1, fillna = 0, out_column = 'median_regressor_7_R', )\n",
      "MeanTransform(in_column = 'regressor_8_f107_adj', window = 40, seasonality = 1, alpha = 1, min_periods = 1, fillna = 0, out_column = 'median_regressor_8_f107_adj', )\n",
      "MeanTransform(in_column = 'regressor_9_Dst', window = 40, seasonality = 1, alpha = 1, min_periods = 1, fillna = 0, out_column = 'median_regressor_9_Dst', )\n",
      "MeanTransform(in_column = 'regressor_10_B_mag_avg', window = 40, seasonality = 1, alpha = 1, min_periods = 1, fillna = 0, out_column = 'median_regressor_10_B_mag_avg', )\n",
      "\n",
      "*** Переменные регрессоры: ***\n",
      " ['timestamp', 'AL', 'AU', 'AE', 'Kp', 'p_flow', 'n_p', 'n_plasma', 'R', 'f107_adj', 'Dst', 'B_mag_avg'] \n",
      " \n",
      "\n",
      "Получаем предсказание...\n",
      "Последние три значения датафрейма для предсказания:\n",
      "segment                  segment_0                                        \\\n",
      "feature             regressor_0_AL regressor_10_B_mag_avg regressor_1_AU   \n",
      "timestamp                                                                  \n",
      "2019-07-21 13:00:00          -35.0                    3.6           74.0   \n",
      "2019-07-21 14:00:00          -65.0                    4.0           62.0   \n",
      "2019-07-21 15:00:00          -13.0                    4.3           51.0   \n",
      "\n",
      "segment                                                               \\\n",
      "feature             regressor_2_AE regressor_3_Kp regressor_4_p_flow   \n",
      "timestamp                                                              \n",
      "2019-07-21 13:00:00          109.0            1.0               1.27   \n",
      "2019-07-21 14:00:00          127.0            1.0               1.49   \n",
      "2019-07-21 15:00:00           64.0            1.7               1.78   \n",
      "\n",
      "segment                                                                 \\\n",
      "feature             regressor_5_n_p regressor_6_n_plasma regressor_7_R   \n",
      "timestamp                                                                \n",
      "2019-07-21 13:00:00             8.0                 35.0           0.0   \n",
      "2019-07-21 14:00:00             8.9                 38.0           0.0   \n",
      "2019-07-21 15:00:00            10.2                 36.0           0.0   \n",
      "\n",
      "segment                                                          \n",
      "feature             regressor_8_f107_adj regressor_9_Dst target  \n",
      "timestamp                                                        \n",
      "2019-07-21 13:00:00                 69.8            -3.0  305.0  \n",
      "2019-07-21 14:00:00                 69.8            -1.0  314.0  \n",
      "2019-07-21 15:00:00                 69.8             2.0  320.0  \n",
      "\n",
      " \n",
      "Предсказание(первые 3):\n",
      " timestamp\n",
      "2019-07-21 16:00:00    371.228517\n",
      "2019-07-21 17:00:00    360.638955\n",
      "2019-07-21 18:00:00    367.884887\n",
      "Name: target, dtype: float64\n",
      "\n",
      " \n",
      "Реальные данные (первые 3):\n",
      " timestamp\n",
      "2019-07-21 16:00:00    323.0\n",
      "2019-07-21 17:00:00    315.0\n",
      "2019-07-21 18:00:00    325.0\n",
      "Freq: H, Name: target, dtype: float64\n",
      "\n",
      "\n"
     ]
    },
    {
     "data": {
      "image/png": "[encoded data removed]",
      "text/plain": [
       "<Figure size 1000x500 with 1 Axes>"
      ]
     },
     "metadata": {},
     "output_type": "display_data"
    }
   ],
   "source": [
    "df_for_predict = get_etna_dataframe(sw_path=TRAIN_DATASET_PATH,\n",
    "                                    using_measure_points=(VALIDATION_MEASURE_POINTS_END - HORIZON),\n",
    "                                    target_list=target_list, \n",
    "                                    regressors_list=regressors_list,\n",
    "                                    with_solar_cycle_order_day_feature=False)\n",
    "\n",
    "df_real = get_etna_dataframe(sw_path=PATH_TO_DATASET,\n",
    "                             using_measure_points=VALIDATION_MEASURE_POINTS_END,\n",
    "                             target_list=target_list, \n",
    "                             regressors_list=regressors_list,\n",
    "                             with_solar_cycle_order_day_feature=False)\n",
    "df_real = TSDataset(df_real.df.tail(horizon), freq='h')\n",
    "\n",
    "print(\"*** Статистика по датасету для прогнозирования ***\\n\")\n",
    "print_TSDataset_statistic(df_for_predict)\n",
    "print(\"*** Статистика по датасету c настоящими значениями прогноза ***\\n\")\n",
    "print_TSDataset_statistic(df_for_predict)\n",
    "\n",
    "\n",
    "\n",
    "pipeline = load(MODEL_SAVING_PATH)\n",
    "print_pipeline_transform_and_regressors(pipeline, regressors_list)\n",
    "\n",
    "print(\"Получаем предсказание...\")\n",
    "\n",
    "forecast = pipeline.forecast(df_for_predict)\n",
    "\n",
    "plot_forecast(forecast_ts=forecast, test_ts=df_real, train_ts=df_for_predict, n_train_samples=10)\n",
    "print(f\"\"\"Последние три значения датафрейма для предсказания:\\n{df_for_predict.tail(3)}\\n\\n \n",
    "Предсказание(первые 3):\\n {forecast.df[\"segment_0\"][\"target\"].head(3)}\\n\\n \n",
    "Реальные данные (первые 3):\\n {df_real.df[\"segment_0\"][\"target\"].head(3)}\\n\\n\"\"\")\n",
    "play_end_sound()"
   ]
  },
  {
   "cell_type": "markdown",
   "id": "fc62f31a-909a-4f44-9776-4656866a8e3c",
   "metadata": {},
   "source": [
    "## Обучение с помощью Optuna"
   ]
  },
  {
   "cell_type": "code",
   "execution_count": 19,
   "id": "75ad6559-932f-4ceb-904f-192376fc3b9c",
   "metadata": {},
   "outputs": [],
   "source": [
    "app = typer.Typer()\n",
    "\n",
    "\n",
    "def set_seed(seed: int = 42):\n",
    "    random.seed(seed)\n",
    "    np.random.seed(seed)\n",
    "\n",
    "\n",
    "def init_logger(config: dict, project: str = \"RNNModel\", tags: Optional[list] = [\"test\", \"sweeps\"]):\n",
    "    tslogger.loggers = []\n",
    "    wblogger = WandbLogger(project=project, tags=tags, config=config)\n",
    "    tslogger.add(wblogger)\n",
    "\n",
    "\n",
    "def objective(trial: optuna.Trial, metric_name: str, ts: TSDataset, seed: int):\n",
    "    \"\"\"Optuna objective function.\"\"\"\n",
    "\n",
    "    # Set seed for reproducibility\n",
    "    set_seed(seed)\n",
    "\n",
    "    target_list = ['timestamp',\n",
    "              'v_plasma']\n",
    "    regressors_list = [\n",
    "                   'timestamp',\n",
    "                   # 'AU', # + на трендах вниз появились проблемы\n",
    "                   'AE', # +\n",
    "                   'Kp', # + \n",
    "                   # 'n_plasma', # +\n",
    "                   'R', # +\n",
    "                   # 'f107_adj', # +\n",
    "                   'Dst', # +\n",
    "                   'B_mag_avg', # +\n",
    "    ]\n",
    "\n",
    "    horizon = 72\n",
    "    input_size = len(regressors_list)\n",
    "    \n",
    "    transforms=[\n",
    "        MinMaxScalerTransform(in_column=None),\n",
    "    ]\n",
    "    \n",
    "    pipeline = Pipeline(\n",
    "        model = RNNModel(input_size=input_size,\n",
    "                         decoder_length=horizon,\n",
    "                         encoder_length=2*horizon,\n",
    "                         num_layers=8,  # trial.suggest_int(\"num_layers\", 3, 8),\n",
    "                         hidden_size=8,  # trial.suggest_int(\"hidden_size\", 16, 30),\n",
    "                         lr=0.001,\n",
    "                         test_batch_size=64,\n",
    "                         train_batch_size=64,\n",
    "                         trainer_params=dict(max_epochs=8,  # trial.suggest_int(\"(max_epochs\", 5, 30),\n",
    "                                             gpus=1,\n",
    "                                            ),\n",
    "                                ),\n",
    "        transforms=transforms,\n",
    "        horizon=horizon,\n",
    "    )\n",
    "\n",
    "    # Init WandB logger\n",
    "    init_logger(pipeline.to_dict())\n",
    "\n",
    "    # Start backtest\n",
    "    metrics, _, _ = pipeline.backtest(ts=ts, metrics=[MAE(), SMAPE(), MSE()])\n",
    "    return metrics[metric_name].mean()\n",
    "\n",
    "\n",
    "@app.command()\n",
    "def run_optuna(\n",
    "    metric_name: str = \"MAE\",\n",
    "    storage: str = \"sqlite:///optuna.db\",\n",
    "    study_name: Optional[str] = None,\n",
    "    n_trials: int = 1,\n",
    "    file_path: Path = TRAIN_DATASET_PATH,\n",
    "    direction: str = \"minimize\",\n",
    "    freq: str = \"D\",\n",
    "    seed: int = 11,\n",
    "):\n",
    "    \"\"\"\n",
    "    Run optuna optimization for DeepARModel.\n",
    "    \"\"\"\n",
    "    # Load data\n",
    "    target_list = ['timestamp',\n",
    "              'v_plasma']\n",
    "\n",
    "    \n",
    "    regressors_list = [\n",
    "                   'timestamp',\n",
    "                   # 'AU', # + на трендах вниз появились проблемы\n",
    "                   'AE', # +\n",
    "                   'Kp', # + \n",
    "                   # 'n_plasma', # +\n",
    "                   'R', # +\n",
    "                   # 'f107_adj', # +\n",
    "                   'Dst', # +\n",
    "                   'B_mag_avg', # +\n",
    "    ]\n",
    "    ts = get_etna_dataframe(sw_path=TRAIN_DATASET_PATH,\n",
    "                        using_measure_points=USING_MEASURE_POINTS,\n",
    "                        target_list=target_list, \n",
    "                        regressors_list=regressors_list,\n",
    "                        with_solar_cycle_order_day_feature=False)\n",
    "\n",
    "    # Create Optuna study\n",
    "    study = optuna.create_study(\n",
    "        storage=storage,\n",
    "        study_name=study_name,\n",
    "        sampler=optuna.samplers.TPESampler(multivariate=True, group=True),\n",
    "        load_if_exists=True,\n",
    "        direction=direction,\n",
    "    )\n",
    "\n",
    "    # Run Optuna optimization\n",
    "    study.optimize(\n",
    "        partial(objective, metric_name=metric_name, ts=ts, seed=seed), n_trials=n_trials\n",
    "    )"
   ]
  },
  {
   "cell_type": "code",
   "execution_count": 20,
   "id": "79a48569-9405-43c8-825f-5020f6949b3d",
   "metadata": {},
   "outputs": [
    {
     "name": "stderr",
     "output_type": "stream",
     "text": [
      "\u001b[32m[I 2024-05-21 17:14:56,431]\u001b[0m A new study created in RDB with name: no-name-843db694-5b59-4ee1-adef-9febfe805569\u001b[0m\n",
      "Failed to detect the name of this notebook, you can set it manually with the WANDB_NOTEBOOK_NAME environment variable to enable code saving.\n",
      "\u001b[34m\u001b[1mwandb\u001b[0m: Currently logged in as: \u001b[33mandreiavdeencko\u001b[0m (\u001b[33mmstu\u001b[0m). Use \u001b[1m`wandb login --relogin`\u001b[0m to force relogin\n"
     ]
    },
    {
     "data": {
      "text/html": [
       "wandb version 0.17.0 is available!  To upgrade, please run:\n",
       " $ pip install wandb --upgrade"
      ],
      "text/plain": [
       "<IPython.core.display.HTML object>"
      ]
     },
     "metadata": {},
     "output_type": "display_data"
    },
    {
     "data": {
      "text/html": [
       "Tracking run with wandb version 0.12.21"
      ],
      "text/plain": [
       "<IPython.core.display.HTML object>"
      ]
     },
     "metadata": {},
     "output_type": "display_data"
    },
    {
     "data": {
      "text/html": [
       "Run data is saved locally in <code>C:\\Users\\andre\\wandb\\run-20240521_171502-2yk87fzd</code>"
      ],
      "text/plain": [
       "<IPython.core.display.HTML object>"
      ]
     },
     "metadata": {},
     "output_type": "display_data"
    },
    {
     "data": {
      "text/html": [
       "Syncing run <strong><a href=\"https://wandb.ai/mstu/RNNModel/runs/2yk87fzd\" target=\"_blank\">qWRE1BuN</a></strong> to <a href=\"https://wandb.ai/mstu/RNNModel\" target=\"_blank\">Weights & Biases</a> (<a href=\"https://wandb.me/run\" target=\"_blank\">docs</a>)<br/>"
      ],
      "text/plain": [
       "<IPython.core.display.HTML object>"
      ]
     },
     "metadata": {},
     "output_type": "display_data"
    },
    {
     "name": "stderr",
     "output_type": "stream",
     "text": [
      "GPU available: True (cuda), used: True\n",
      "TPU available: False, using: 0 TPU cores\n",
      "IPU available: False, using: 0 IPUs\n",
      "HPU available: False, using: 0 HPUs\n",
      "LOCAL_RANK: 0 - CUDA_VISIBLE_DEVICES: [0]\n",
      "\n",
      "  | Name       | Type    | Params\n",
      "---------------------------------------\n",
      "0 | loss       | MSELoss | 0     \n",
      "1 | rnn        | LSTM    | 4.5 K \n",
      "2 | projection | Linear  | 9     \n",
      "---------------------------------------\n",
      "4.6 K     Trainable params\n",
      "0         Non-trainable params\n",
      "4.6 K     Total params\n",
      "0.018     Total estimated model params size (MB)\n"
     ]
    },
    {
     "name": "stdout",
     "output_type": "stream",
     "text": [
      "Epoch 7: 100%|██████████| 265/265 [00:02<00:00, 110.07it/s, loss=0.000279, v_num=7fzd]"
     ]
    },
    {
     "name": "stderr",
     "output_type": "stream",
     "text": [
      "`Trainer.fit` stopped: `max_epochs=8` reached.\n"
     ]
    },
    {
     "name": "stdout",
     "output_type": "stream",
     "text": [
      "Epoch 7: 100%|██████████| 265/265 [00:02<00:00, 109.52it/s, loss=0.000279, v_num=7fzd]\n"
     ]
    },
    {
     "data": {
      "text/html": [
       "Waiting for W&B process to finish... <strong style=\"color:green\">(success).</strong>"
      ],
      "text/plain": [
       "<IPython.core.display.HTML object>"
      ]
     },
     "metadata": {},
     "output_type": "display_data"
    },
    {
     "data": {
      "text/html": [
       "<style>\n",
       "    table.wandb td:nth-child(1) { padding: 0 10px; text-align: left ; width: auto;} td:nth-child(2) {text-align: left ; width: 100%}\n",
       "    .wandb-row { display: flex; flex-direction: row; flex-wrap: wrap; justify-content: flex-start; width: 100% }\n",
       "    .wandb-col { display: flex; flex-direction: column; flex-basis: 100%; flex: 1; padding: 10px; }\n",
       "    </style>\n",
       "<div class=\"wandb-row\"><div class=\"wandb-col\"><h3>Run history:</h3><br/><table class=\"wandb\"><tr><td>epoch</td><td>▁▁▁▁▁▂▂▂▂▂▃▃▃▃▃▄▄▄▄▄▅▅▅▅▅▆▆▆▆▆▇▇▇▇▇▇████</td></tr><tr><td>train_loss_epoch</td><td>█▂▁▁▁▁▁▁</td></tr><tr><td>train_loss_step</td><td>▇█▇▇▆▂▂▂▂▁▁▁▁▁▁▁▁▁▁▁▁▁▁▁▁▁▁▁▁▁▁▁▁▁▁▁▁▁▁▁</td></tr><tr><td>trainer/global_step</td><td>▁▁▁▂▂▂▂▂▃▃▃▃▃▃▄▄▄▄▄▄▅▅▅▅▅▅▆▆▆▆▆▆▇▇▇▇▇███</td></tr></table><br/></div><div class=\"wandb-col\"><h3>Run summary:</h3><br/><table class=\"wandb\"><tr><td>epoch</td><td>7</td></tr><tr><td>train_loss_epoch</td><td>0.00029</td></tr><tr><td>train_loss_step</td><td>0.00034</td></tr><tr><td>trainer/global_step</td><td>2119</td></tr></table><br/></div></div>"
      ],
      "text/plain": [
       "<IPython.core.display.HTML object>"
      ]
     },
     "metadata": {},
     "output_type": "display_data"
    },
    {
     "data": {
      "text/html": [
       "Synced <strong style=\"color:#cdcd00\">qWRE1BuN</strong>: <a href=\"https://wandb.ai/mstu/RNNModel/runs/2yk87fzd\" target=\"_blank\">https://wandb.ai/mstu/RNNModel/runs/2yk87fzd</a><br/>Synced 6 W&B file(s), 0 media file(s), 0 artifact file(s) and 0 other file(s)"
      ],
      "text/plain": [
       "<IPython.core.display.HTML object>"
      ]
     },
     "metadata": {},
     "output_type": "display_data"
    },
    {
     "data": {
      "text/html": [
       "Find logs at: <code>.\\wandb\\run-20240521_171502-2yk87fzd\\logs</code>"
      ],
      "text/plain": [
       "<IPython.core.display.HTML object>"
      ]
     },
     "metadata": {},
     "output_type": "display_data"
    },
    {
     "name": "stderr",
     "output_type": "stream",
     "text": [
      "[Parallel(n_jobs=1)]: Done   1 tasks      | elapsed:   38.2s\n"
     ]
    },
    {
     "data": {
      "text/html": [
       "Changes to your `wandb` environment variables will be ignored because your `wandb` session has already started. For more information on how to modify your settings with `wandb.init()` arguments, please refer to <a href=\"https://wandb.me/wandb-init\" target=\"_blank\">the W&B docs</a>."
      ],
      "text/plain": [
       "<IPython.core.display.HTML object>"
      ]
     },
     "metadata": {},
     "output_type": "display_data"
    },
    {
     "data": {
      "text/html": [
       "wandb version 0.17.0 is available!  To upgrade, please run:\n",
       " $ pip install wandb --upgrade"
      ],
      "text/plain": [
       "<IPython.core.display.HTML object>"
      ]
     },
     "metadata": {},
     "output_type": "display_data"
    },
    {
     "data": {
      "text/html": [
       "Tracking run with wandb version 0.12.21"
      ],
      "text/plain": [
       "<IPython.core.display.HTML object>"
      ]
     },
     "metadata": {},
     "output_type": "display_data"
    },
    {
     "data": {
      "text/html": [
       "Run data is saved locally in <code>C:\\Users\\andre\\wandb\\run-20240521_171534-1tdac8bq</code>"
      ],
      "text/plain": [
       "<IPython.core.display.HTML object>"
      ]
     },
     "metadata": {},
     "output_type": "display_data"
    },
    {
     "data": {
      "text/html": [
       "Syncing run <strong><a href=\"https://wandb.ai/mstu/RNNModel/runs/1tdac8bq\" target=\"_blank\">qWRE1BuN</a></strong> to <a href=\"https://wandb.ai/mstu/RNNModel\" target=\"_blank\">Weights & Biases</a> (<a href=\"https://wandb.me/run\" target=\"_blank\">docs</a>)<br/>"
      ],
      "text/plain": [
       "<IPython.core.display.HTML object>"
      ]
     },
     "metadata": {},
     "output_type": "display_data"
    },
    {
     "name": "stderr",
     "output_type": "stream",
     "text": [
      "GPU available: True (cuda), used: True\n",
      "TPU available: False, using: 0 TPU cores\n",
      "IPU available: False, using: 0 IPUs\n",
      "HPU available: False, using: 0 HPUs\n",
      "LOCAL_RANK: 0 - CUDA_VISIBLE_DEVICES: [0]\n",
      "\n",
      "  | Name       | Type    | Params\n",
      "---------------------------------------\n",
      "0 | loss       | MSELoss | 0     \n",
      "1 | rnn        | LSTM    | 4.5 K \n",
      "2 | projection | Linear  | 9     \n",
      "---------------------------------------\n",
      "4.6 K     Trainable params\n",
      "0         Non-trainable params\n",
      "4.6 K     Total params\n",
      "0.018     Total estimated model params size (MB)\n"
     ]
    },
    {
     "name": "stdout",
     "output_type": "stream",
     "text": [
      "Epoch 7: 100%|██████████| 267/267 [00:02<00:00, 106.04it/s, loss=0.000272, v_num=c8bq]"
     ]
    },
    {
     "name": "stderr",
     "output_type": "stream",
     "text": [
      "`Trainer.fit` stopped: `max_epochs=8` reached.\n"
     ]
    },
    {
     "name": "stdout",
     "output_type": "stream",
     "text": [
      "Epoch 7: 100%|██████████| 267/267 [00:02<00:00, 104.54it/s, loss=0.000272, v_num=c8bq]\n"
     ]
    },
    {
     "data": {
      "text/html": [
       "Waiting for W&B process to finish... <strong style=\"color:green\">(success).</strong>"
      ],
      "text/plain": [
       "<IPython.core.display.HTML object>"
      ]
     },
     "metadata": {},
     "output_type": "display_data"
    },
    {
     "data": {
      "text/html": [
       "<style>\n",
       "    table.wandb td:nth-child(1) { padding: 0 10px; text-align: left ; width: auto;} td:nth-child(2) {text-align: left ; width: 100%}\n",
       "    .wandb-row { display: flex; flex-direction: row; flex-wrap: wrap; justify-content: flex-start; width: 100% }\n",
       "    .wandb-col { display: flex; flex-direction: column; flex-basis: 100%; flex: 1; padding: 10px; }\n",
       "    </style>\n",
       "<div class=\"wandb-row\"><div class=\"wandb-col\"><h3>Run history:</h3><br/><table class=\"wandb\"><tr><td>epoch</td><td>▁▁▁▁▁▂▂▂▂▂▃▃▃▃▃▃▄▄▄▄▅▅▅▅▅▆▆▆▆▆▆▇▇▇▇▇████</td></tr><tr><td>train_loss_epoch</td><td>█▂▁▁▁▁▁▁</td></tr><tr><td>train_loss_step</td><td>█▆▆▆▄▂▂▂▂▂▂▁▁▁▁▁▁▁▁▁▁▁▁▁▁▁▁▁▁▁▁▁▁▁▁▁▁▁▁▁</td></tr><tr><td>trainer/global_step</td><td>▁▁▁▂▂▂▂▂▃▃▃▃▃▃▄▄▄▄▄▄▅▅▅▅▅▅▆▆▆▆▆▆▇▇▇▇▇███</td></tr></table><br/></div><div class=\"wandb-col\"><h3>Run summary:</h3><br/><table class=\"wandb\"><tr><td>epoch</td><td>7</td></tr><tr><td>train_loss_epoch</td><td>0.0003</td></tr><tr><td>train_loss_step</td><td>0.00024</td></tr><tr><td>trainer/global_step</td><td>2135</td></tr></table><br/></div></div>"
      ],
      "text/plain": [
       "<IPython.core.display.HTML object>"
      ]
     },
     "metadata": {},
     "output_type": "display_data"
    },
    {
     "data": {
      "text/html": [
       "Synced <strong style=\"color:#cdcd00\">qWRE1BuN</strong>: <a href=\"https://wandb.ai/mstu/RNNModel/runs/1tdac8bq\" target=\"_blank\">https://wandb.ai/mstu/RNNModel/runs/1tdac8bq</a><br/>Synced 6 W&B file(s), 0 media file(s), 0 artifact file(s) and 0 other file(s)"
      ],
      "text/plain": [
       "<IPython.core.display.HTML object>"
      ]
     },
     "metadata": {},
     "output_type": "display_data"
    },
    {
     "data": {
      "text/html": [
       "Find logs at: <code>.\\wandb\\run-20240521_171534-1tdac8bq\\logs</code>"
      ],
      "text/plain": [
       "<IPython.core.display.HTML object>"
      ]
     },
     "metadata": {},
     "output_type": "display_data"
    },
    {
     "name": "stderr",
     "output_type": "stream",
     "text": [
      "[Parallel(n_jobs=1)]: Done   2 tasks      | elapsed:  1.2min\n"
     ]
    },
    {
     "data": {
      "text/html": [
       "Changes to your `wandb` environment variables will be ignored because your `wandb` session has already started. For more information on how to modify your settings with `wandb.init()` arguments, please refer to <a href=\"https://wandb.me/wandb-init\" target=\"_blank\">the W&B docs</a>."
      ],
      "text/plain": [
       "<IPython.core.display.HTML object>"
      ]
     },
     "metadata": {},
     "output_type": "display_data"
    },
    {
     "data": {
      "text/html": [
       "wandb version 0.17.0 is available!  To upgrade, please run:\n",
       " $ pip install wandb --upgrade"
      ],
      "text/plain": [
       "<IPython.core.display.HTML object>"
      ]
     },
     "metadata": {},
     "output_type": "display_data"
    },
    {
     "data": {
      "text/html": [
       "Tracking run with wandb version 0.12.21"
      ],
      "text/plain": [
       "<IPython.core.display.HTML object>"
      ]
     },
     "metadata": {},
     "output_type": "display_data"
    },
    {
     "data": {
      "text/html": [
       "Run data is saved locally in <code>C:\\Users\\andre\\wandb\\run-20240521_171607-t1jrkw2b</code>"
      ],
      "text/plain": [
       "<IPython.core.display.HTML object>"
      ]
     },
     "metadata": {},
     "output_type": "display_data"
    },
    {
     "data": {
      "text/html": [
       "Syncing run <strong><a href=\"https://wandb.ai/mstu/RNNModel/runs/t1jrkw2b\" target=\"_blank\">qWRE1BuN</a></strong> to <a href=\"https://wandb.ai/mstu/RNNModel\" target=\"_blank\">Weights & Biases</a> (<a href=\"https://wandb.me/run\" target=\"_blank\">docs</a>)<br/>"
      ],
      "text/plain": [
       "<IPython.core.display.HTML object>"
      ]
     },
     "metadata": {},
     "output_type": "display_data"
    },
    {
     "name": "stderr",
     "output_type": "stream",
     "text": [
      "GPU available: True (cuda), used: True\n",
      "TPU available: False, using: 0 TPU cores\n",
      "IPU available: False, using: 0 IPUs\n",
      "HPU available: False, using: 0 HPUs\n",
      "LOCAL_RANK: 0 - CUDA_VISIBLE_DEVICES: [0]\n",
      "\n",
      "  | Name       | Type    | Params\n",
      "---------------------------------------\n",
      "0 | loss       | MSELoss | 0     \n",
      "1 | rnn        | LSTM    | 4.5 K \n",
      "2 | projection | Linear  | 9     \n",
      "---------------------------------------\n",
      "4.6 K     Trainable params\n",
      "0         Non-trainable params\n",
      "4.6 K     Total params\n",
      "0.018     Total estimated model params size (MB)\n"
     ]
    },
    {
     "name": "stdout",
     "output_type": "stream",
     "text": [
      "Epoch 7: 100%|██████████| 268/268 [00:02<00:00, 103.61it/s, loss=0.000284, v_num=kw2b]"
     ]
    },
    {
     "name": "stderr",
     "output_type": "stream",
     "text": [
      "`Trainer.fit` stopped: `max_epochs=8` reached.\n"
     ]
    },
    {
     "name": "stdout",
     "output_type": "stream",
     "text": [
      "Epoch 7: 100%|██████████| 268/268 [00:02<00:00, 103.07it/s, loss=0.000284, v_num=kw2b]\n"
     ]
    },
    {
     "data": {
      "text/html": [
       "Waiting for W&B process to finish... <strong style=\"color:green\">(success).</strong>"
      ],
      "text/plain": [
       "<IPython.core.display.HTML object>"
      ]
     },
     "metadata": {},
     "output_type": "display_data"
    },
    {
     "data": {
      "text/html": [
       "<style>\n",
       "    table.wandb td:nth-child(1) { padding: 0 10px; text-align: left ; width: auto;} td:nth-child(2) {text-align: left ; width: 100%}\n",
       "    .wandb-row { display: flex; flex-direction: row; flex-wrap: wrap; justify-content: flex-start; width: 100% }\n",
       "    .wandb-col { display: flex; flex-direction: column; flex-basis: 100%; flex: 1; padding: 10px; }\n",
       "    </style>\n",
       "<div class=\"wandb-row\"><div class=\"wandb-col\"><h3>Run history:</h3><br/><table class=\"wandb\"><tr><td>epoch</td><td>▁▁▁▁▁▂▂▂▂▂▃▃▃▃▃▃▄▄▄▄▅▅▅▅▅▆▆▆▆▆▆▇▇▇▇▇████</td></tr><tr><td>train_loss_epoch</td><td>█▂▁▁▁▁▁▁</td></tr><tr><td>train_loss_step</td><td>▇█▆█▆▃▂▂▂▂▁▁▁▁▁▁▁▁▁▁▁▁▁▁▁▁▁▁▁▁▁▁▁▁▁▁▁▁▁▁</td></tr><tr><td>trainer/global_step</td><td>▁▁▁▂▂▂▂▂▃▃▃▃▃▃▄▄▄▄▄▄▅▅▅▅▅▅▆▆▆▆▆▆▇▇▇▇▇███</td></tr></table><br/></div><div class=\"wandb-col\"><h3>Run summary:</h3><br/><table class=\"wandb\"><tr><td>epoch</td><td>7</td></tr><tr><td>train_loss_epoch</td><td>0.00028</td></tr><tr><td>train_loss_step</td><td>0.00023</td></tr><tr><td>trainer/global_step</td><td>2143</td></tr></table><br/></div></div>"
      ],
      "text/plain": [
       "<IPython.core.display.HTML object>"
      ]
     },
     "metadata": {},
     "output_type": "display_data"
    },
    {
     "data": {
      "text/html": [
       "Synced <strong style=\"color:#cdcd00\">qWRE1BuN</strong>: <a href=\"https://wandb.ai/mstu/RNNModel/runs/t1jrkw2b\" target=\"_blank\">https://wandb.ai/mstu/RNNModel/runs/t1jrkw2b</a><br/>Synced 6 W&B file(s), 0 media file(s), 0 artifact file(s) and 0 other file(s)"
      ],
      "text/plain": [
       "<IPython.core.display.HTML object>"
      ]
     },
     "metadata": {},
     "output_type": "display_data"
    },
    {
     "data": {
      "text/html": [
       "Find logs at: <code>.\\wandb\\run-20240521_171607-t1jrkw2b\\logs</code>"
      ],
      "text/plain": [
       "<IPython.core.display.HTML object>"
      ]
     },
     "metadata": {},
     "output_type": "display_data"
    },
    {
     "name": "stderr",
     "output_type": "stream",
     "text": [
      "[Parallel(n_jobs=1)]: Done   3 tasks      | elapsed:  1.7min\n"
     ]
    },
    {
     "data": {
      "text/html": [
       "Changes to your `wandb` environment variables will be ignored because your `wandb` session has already started. For more information on how to modify your settings with `wandb.init()` arguments, please refer to <a href=\"https://wandb.me/wandb-init\" target=\"_blank\">the W&B docs</a>."
      ],
      "text/plain": [
       "<IPython.core.display.HTML object>"
      ]
     },
     "metadata": {},
     "output_type": "display_data"
    },
    {
     "data": {
      "text/html": [
       "wandb version 0.17.0 is available!  To upgrade, please run:\n",
       " $ pip install wandb --upgrade"
      ],
      "text/plain": [
       "<IPython.core.display.HTML object>"
      ]
     },
     "metadata": {},
     "output_type": "display_data"
    },
    {
     "data": {
      "text/html": [
       "Tracking run with wandb version 0.12.21"
      ],
      "text/plain": [
       "<IPython.core.display.HTML object>"
      ]
     },
     "metadata": {},
     "output_type": "display_data"
    },
    {
     "data": {
      "text/html": [
       "Run data is saved locally in <code>C:\\Users\\andre\\wandb\\run-20240521_171640-3cm00ihr</code>"
      ],
      "text/plain": [
       "<IPython.core.display.HTML object>"
      ]
     },
     "metadata": {},
     "output_type": "display_data"
    },
    {
     "data": {
      "text/html": [
       "Syncing run <strong><a href=\"https://wandb.ai/mstu/RNNModel/runs/3cm00ihr\" target=\"_blank\">qWRE1BuN</a></strong> to <a href=\"https://wandb.ai/mstu/RNNModel\" target=\"_blank\">Weights & Biases</a> (<a href=\"https://wandb.me/run\" target=\"_blank\">docs</a>)<br/>"
      ],
      "text/plain": [
       "<IPython.core.display.HTML object>"
      ]
     },
     "metadata": {},
     "output_type": "display_data"
    },
    {
     "name": "stderr",
     "output_type": "stream",
     "text": [
      "GPU available: True (cuda), used: True\n",
      "TPU available: False, using: 0 TPU cores\n",
      "IPU available: False, using: 0 IPUs\n",
      "HPU available: False, using: 0 HPUs\n",
      "LOCAL_RANK: 0 - CUDA_VISIBLE_DEVICES: [0]\n",
      "\n",
      "  | Name       | Type    | Params\n",
      "---------------------------------------\n",
      "0 | loss       | MSELoss | 0     \n",
      "1 | rnn        | LSTM    | 4.5 K \n",
      "2 | projection | Linear  | 9     \n",
      "---------------------------------------\n",
      "4.6 K     Trainable params\n",
      "0         Non-trainable params\n",
      "4.6 K     Total params\n",
      "0.018     Total estimated model params size (MB)\n"
     ]
    },
    {
     "name": "stdout",
     "output_type": "stream",
     "text": [
      "Epoch 7: 100%|██████████| 269/269 [00:02<00:00, 103.21it/s, loss=0.000296, v_num=0ihr]"
     ]
    },
    {
     "name": "stderr",
     "output_type": "stream",
     "text": [
      "`Trainer.fit` stopped: `max_epochs=8` reached.\n"
     ]
    },
    {
     "name": "stdout",
     "output_type": "stream",
     "text": [
      "Epoch 7: 100%|██████████| 269/269 [00:02<00:00, 102.60it/s, loss=0.000296, v_num=0ihr]\n"
     ]
    },
    {
     "data": {
      "text/html": [
       "Waiting for W&B process to finish... <strong style=\"color:green\">(success).</strong>"
      ],
      "text/plain": [
       "<IPython.core.display.HTML object>"
      ]
     },
     "metadata": {},
     "output_type": "display_data"
    },
    {
     "data": {
      "text/html": [
       "<style>\n",
       "    table.wandb td:nth-child(1) { padding: 0 10px; text-align: left ; width: auto;} td:nth-child(2) {text-align: left ; width: 100%}\n",
       "    .wandb-row { display: flex; flex-direction: row; flex-wrap: wrap; justify-content: flex-start; width: 100% }\n",
       "    .wandb-col { display: flex; flex-direction: column; flex-basis: 100%; flex: 1; padding: 10px; }\n",
       "    </style>\n",
       "<div class=\"wandb-row\"><div class=\"wandb-col\"><h3>Run history:</h3><br/><table class=\"wandb\"><tr><td>epoch</td><td>▁▁▁▁▁▂▂▂▂▂▃▃▃▃▃▄▄▄▄▄▅▅▅▅▅▆▆▆▆▆▇▇▇▇▇█████</td></tr><tr><td>train_loss_epoch</td><td>█▂▁▁▁▁▁▁</td></tr><tr><td>train_loss_step</td><td>███▇▆▂▂▂▁▂▁▂▁▁▁▁▁▁▁▁▁▁▁▁▁▁▁▁▁▁▁▁▁▁▁▁▁▁▁▁</td></tr><tr><td>trainer/global_step</td><td>▁▁▁▁▂▂▂▂▂▃▃▃▃▃▃▄▄▄▄▄▄▅▅▅▅▅▆▆▆▆▆▆▇▇▇▇▇███</td></tr></table><br/></div><div class=\"wandb-col\"><h3>Run summary:</h3><br/><table class=\"wandb\"><tr><td>epoch</td><td>7</td></tr><tr><td>train_loss_epoch</td><td>0.0003</td></tr><tr><td>train_loss_step</td><td>0.00024</td></tr><tr><td>trainer/global_step</td><td>2151</td></tr></table><br/></div></div>"
      ],
      "text/plain": [
       "<IPython.core.display.HTML object>"
      ]
     },
     "metadata": {},
     "output_type": "display_data"
    },
    {
     "data": {
      "text/html": [
       "Synced <strong style=\"color:#cdcd00\">qWRE1BuN</strong>: <a href=\"https://wandb.ai/mstu/RNNModel/runs/3cm00ihr\" target=\"_blank\">https://wandb.ai/mstu/RNNModel/runs/3cm00ihr</a><br/>Synced 6 W&B file(s), 0 media file(s), 0 artifact file(s) and 0 other file(s)"
      ],
      "text/plain": [
       "<IPython.core.display.HTML object>"
      ]
     },
     "metadata": {},
     "output_type": "display_data"
    },
    {
     "data": {
      "text/html": [
       "Find logs at: <code>.\\wandb\\run-20240521_171640-3cm00ihr\\logs</code>"
      ],
      "text/plain": [
       "<IPython.core.display.HTML object>"
      ]
     },
     "metadata": {},
     "output_type": "display_data"
    },
    {
     "name": "stderr",
     "output_type": "stream",
     "text": [
      "[Parallel(n_jobs=1)]: Done   4 tasks      | elapsed:  2.3min\n"
     ]
    },
    {
     "data": {
      "text/html": [
       "Changes to your `wandb` environment variables will be ignored because your `wandb` session has already started. For more information on how to modify your settings with `wandb.init()` arguments, please refer to <a href=\"https://wandb.me/wandb-init\" target=\"_blank\">the W&B docs</a>."
      ],
      "text/plain": [
       "<IPython.core.display.HTML object>"
      ]
     },
     "metadata": {},
     "output_type": "display_data"
    },
    {
     "data": {
      "text/html": [
       "wandb version 0.17.0 is available!  To upgrade, please run:\n",
       " $ pip install wandb --upgrade"
      ],
      "text/plain": [
       "<IPython.core.display.HTML object>"
      ]
     },
     "metadata": {},
     "output_type": "display_data"
    },
    {
     "data": {
      "text/html": [
       "Tracking run with wandb version 0.12.21"
      ],
      "text/plain": [
       "<IPython.core.display.HTML object>"
      ]
     },
     "metadata": {},
     "output_type": "display_data"
    },
    {
     "data": {
      "text/html": [
       "Run data is saved locally in <code>C:\\Users\\andre\\wandb\\run-20240521_171712-0q3x8thg</code>"
      ],
      "text/plain": [
       "<IPython.core.display.HTML object>"
      ]
     },
     "metadata": {},
     "output_type": "display_data"
    },
    {
     "data": {
      "text/html": [
       "Syncing run <strong><a href=\"https://wandb.ai/mstu/RNNModel/runs/0q3x8thg\" target=\"_blank\">qWRE1BuN</a></strong> to <a href=\"https://wandb.ai/mstu/RNNModel\" target=\"_blank\">Weights & Biases</a> (<a href=\"https://wandb.me/run\" target=\"_blank\">docs</a>)<br/>"
      ],
      "text/plain": [
       "<IPython.core.display.HTML object>"
      ]
     },
     "metadata": {},
     "output_type": "display_data"
    },
    {
     "name": "stderr",
     "output_type": "stream",
     "text": [
      "GPU available: True (cuda), used: True\n",
      "TPU available: False, using: 0 TPU cores\n",
      "IPU available: False, using: 0 IPUs\n",
      "HPU available: False, using: 0 HPUs\n",
      "LOCAL_RANK: 0 - CUDA_VISIBLE_DEVICES: [0]\n",
      "\n",
      "  | Name       | Type    | Params\n",
      "---------------------------------------\n",
      "0 | loss       | MSELoss | 0     \n",
      "1 | rnn        | LSTM    | 4.5 K \n",
      "2 | projection | Linear  | 9     \n",
      "---------------------------------------\n",
      "4.6 K     Trainable params\n",
      "0         Non-trainable params\n",
      "4.6 K     Total params\n",
      "0.018     Total estimated model params size (MB)\n"
     ]
    },
    {
     "name": "stdout",
     "output_type": "stream",
     "text": [
      "Epoch 7: 100%|██████████| 270/270 [00:03<00:00, 89.26it/s, loss=0.000324, v_num=8thg] "
     ]
    },
    {
     "name": "stderr",
     "output_type": "stream",
     "text": [
      "`Trainer.fit` stopped: `max_epochs=8` reached.\n"
     ]
    },
    {
     "name": "stdout",
     "output_type": "stream",
     "text": [
      "Epoch 7: 100%|██████████| 270/270 [00:03<00:00, 88.93it/s, loss=0.000324, v_num=8thg]\n"
     ]
    },
    {
     "data": {
      "text/html": [
       "Waiting for W&B process to finish... <strong style=\"color:green\">(success).</strong>"
      ],
      "text/plain": [
       "<IPython.core.display.HTML object>"
      ]
     },
     "metadata": {},
     "output_type": "display_data"
    },
    {
     "data": {
      "text/html": [
       "<style>\n",
       "    table.wandb td:nth-child(1) { padding: 0 10px; text-align: left ; width: auto;} td:nth-child(2) {text-align: left ; width: 100%}\n",
       "    .wandb-row { display: flex; flex-direction: row; flex-wrap: wrap; justify-content: flex-start; width: 100% }\n",
       "    .wandb-col { display: flex; flex-direction: column; flex-basis: 100%; flex: 1; padding: 10px; }\n",
       "    </style>\n",
       "<div class=\"wandb-row\"><div class=\"wandb-col\"><h3>Run history:</h3><br/><table class=\"wandb\"><tr><td>epoch</td><td>▁▁▁▁▁▂▂▂▂▂▃▃▃▃▃▄▄▄▄▄▅▅▅▅▅▆▆▆▆▆▇▇▇▇▇█████</td></tr><tr><td>train_loss_epoch</td><td>█▂▁▁▁▁▁▁</td></tr><tr><td>train_loss_step</td><td>▇▇▅█▅▂▂▂▂▂▁▁▁▁▁▁▁▁▁▁▁▁▁▁▁▁▁▁▁▁▁▁▁▁▁▁▁▁▁▁</td></tr><tr><td>trainer/global_step</td><td>▁▁▁▁▂▂▂▂▂▃▃▃▃▃▃▄▄▄▄▄▄▅▅▅▅▅▆▆▆▆▆▆▇▇▇▇▇███</td></tr></table><br/></div><div class=\"wandb-col\"><h3>Run summary:</h3><br/><table class=\"wandb\"><tr><td>epoch</td><td>7</td></tr><tr><td>train_loss_epoch</td><td>0.00029</td></tr><tr><td>train_loss_step</td><td>0.00033</td></tr><tr><td>trainer/global_step</td><td>2159</td></tr></table><br/></div></div>"
      ],
      "text/plain": [
       "<IPython.core.display.HTML object>"
      ]
     },
     "metadata": {},
     "output_type": "display_data"
    },
    {
     "data": {
      "text/html": [
       "Synced <strong style=\"color:#cdcd00\">qWRE1BuN</strong>: <a href=\"https://wandb.ai/mstu/RNNModel/runs/0q3x8thg\" target=\"_blank\">https://wandb.ai/mstu/RNNModel/runs/0q3x8thg</a><br/>Synced 6 W&B file(s), 0 media file(s), 0 artifact file(s) and 0 other file(s)"
      ],
      "text/plain": [
       "<IPython.core.display.HTML object>"
      ]
     },
     "metadata": {},
     "output_type": "display_data"
    },
    {
     "data": {
      "text/html": [
       "Find logs at: <code>.\\wandb\\run-20240521_171712-0q3x8thg\\logs</code>"
      ],
      "text/plain": [
       "<IPython.core.display.HTML object>"
      ]
     },
     "metadata": {},
     "output_type": "display_data"
    },
    {
     "name": "stderr",
     "output_type": "stream",
     "text": [
      "[Parallel(n_jobs=1)]: Done   5 tasks      | elapsed:  2.9min\n",
      "[Parallel(n_jobs=1)]: Done   5 tasks      | elapsed:  2.9min\n"
     ]
    },
    {
     "data": {
      "text/html": [
       "Changes to your `wandb` environment variables will be ignored because your `wandb` session has already started. For more information on how to modify your settings with `wandb.init()` arguments, please refer to <a href=\"https://wandb.me/wandb-init\" target=\"_blank\">the W&B docs</a>."
      ],
      "text/plain": [
       "<IPython.core.display.HTML object>"
      ]
     },
     "metadata": {},
     "output_type": "display_data"
    },
    {
     "data": {
      "text/html": [
       "wandb version 0.17.0 is available!  To upgrade, please run:\n",
       " $ pip install wandb --upgrade"
      ],
      "text/plain": [
       "<IPython.core.display.HTML object>"
      ]
     },
     "metadata": {},
     "output_type": "display_data"
    },
    {
     "data": {
      "text/html": [
       "Tracking run with wandb version 0.12.21"
      ],
      "text/plain": [
       "<IPython.core.display.HTML object>"
      ]
     },
     "metadata": {},
     "output_type": "display_data"
    },
    {
     "data": {
      "text/html": [
       "Run data is saved locally in <code>C:\\Users\\andre\\wandb\\run-20240521_171747-50k7dx0k</code>"
      ],
      "text/plain": [
       "<IPython.core.display.HTML object>"
      ]
     },
     "metadata": {},
     "output_type": "display_data"
    },
    {
     "data": {
      "text/html": [
       "Syncing run <strong><a href=\"https://wandb.ai/mstu/RNNModel/runs/50k7dx0k\" target=\"_blank\">qWRE1BuN</a></strong> to <a href=\"https://wandb.ai/mstu/RNNModel\" target=\"_blank\">Weights & Biases</a> (<a href=\"https://wandb.me/run\" target=\"_blank\">docs</a>)<br/>"
      ],
      "text/plain": [
       "<IPython.core.display.HTML object>"
      ]
     },
     "metadata": {},
     "output_type": "display_data"
    },
    {
     "data": {
      "text/html": [
       "Waiting for W&B process to finish... <strong style=\"color:green\">(success).</strong>"
      ],
      "text/plain": [
       "<IPython.core.display.HTML object>"
      ]
     },
     "metadata": {},
     "output_type": "display_data"
    },
    {
     "data": {
      "text/html": [
       "Synced <strong style=\"color:#cdcd00\">qWRE1BuN</strong>: <a href=\"https://wandb.ai/mstu/RNNModel/runs/50k7dx0k\" target=\"_blank\">https://wandb.ai/mstu/RNNModel/runs/50k7dx0k</a><br/>Synced 5 W&B file(s), 0 media file(s), 0 artifact file(s) and 0 other file(s)"
      ],
      "text/plain": [
       "<IPython.core.display.HTML object>"
      ]
     },
     "metadata": {},
     "output_type": "display_data"
    },
    {
     "data": {
      "text/html": [
       "Find logs at: <code>.\\wandb\\run-20240521_171747-50k7dx0k\\logs</code>"
      ],
      "text/plain": [
       "<IPython.core.display.HTML object>"
      ]
     },
     "metadata": {},
     "output_type": "display_data"
    },
    {
     "name": "stderr",
     "output_type": "stream",
     "text": [
      "[Parallel(n_jobs=1)]: Done   1 tasks      | elapsed:   12.6s\n"
     ]
    },
    {
     "data": {
      "text/html": [
       "Changes to your `wandb` environment variables will be ignored because your `wandb` session has already started. For more information on how to modify your settings with `wandb.init()` arguments, please refer to <a href=\"https://wandb.me/wandb-init\" target=\"_blank\">the W&B docs</a>."
      ],
      "text/plain": [
       "<IPython.core.display.HTML object>"
      ]
     },
     "metadata": {},
     "output_type": "display_data"
    },
    {
     "data": {
      "text/html": [
       "wandb version 0.17.0 is available!  To upgrade, please run:\n",
       " $ pip install wandb --upgrade"
      ],
      "text/plain": [
       "<IPython.core.display.HTML object>"
      ]
     },
     "metadata": {},
     "output_type": "display_data"
    },
    {
     "data": {
      "text/html": [
       "Tracking run with wandb version 0.12.21"
      ],
      "text/plain": [
       "<IPython.core.display.HTML object>"
      ]
     },
     "metadata": {},
     "output_type": "display_data"
    },
    {
     "data": {
      "text/html": [
       "Run data is saved locally in <code>C:\\Users\\andre\\wandb\\run-20240521_171800-ajg0gqve</code>"
      ],
      "text/plain": [
       "<IPython.core.display.HTML object>"
      ]
     },
     "metadata": {},
     "output_type": "display_data"
    },
    {
     "data": {
      "text/html": [
       "Syncing run <strong><a href=\"https://wandb.ai/mstu/RNNModel/runs/ajg0gqve\" target=\"_blank\">qWRE1BuN</a></strong> to <a href=\"https://wandb.ai/mstu/RNNModel\" target=\"_blank\">Weights & Biases</a> (<a href=\"https://wandb.me/run\" target=\"_blank\">docs</a>)<br/>"
      ],
      "text/plain": [
       "<IPython.core.display.HTML object>"
      ]
     },
     "metadata": {},
     "output_type": "display_data"
    },
    {
     "data": {
      "text/html": [
       "Waiting for W&B process to finish... <strong style=\"color:green\">(success).</strong>"
      ],
      "text/plain": [
       "<IPython.core.display.HTML object>"
      ]
     },
     "metadata": {},
     "output_type": "display_data"
    },
    {
     "data": {
      "text/html": [
       "Synced <strong style=\"color:#cdcd00\">qWRE1BuN</strong>: <a href=\"https://wandb.ai/mstu/RNNModel/runs/ajg0gqve\" target=\"_blank\">https://wandb.ai/mstu/RNNModel/runs/ajg0gqve</a><br/>Synced 5 W&B file(s), 0 media file(s), 0 artifact file(s) and 0 other file(s)"
      ],
      "text/plain": [
       "<IPython.core.display.HTML object>"
      ]
     },
     "metadata": {},
     "output_type": "display_data"
    },
    {
     "data": {
      "text/html": [
       "Find logs at: <code>.\\wandb\\run-20240521_171800-ajg0gqve\\logs</code>"
      ],
      "text/plain": [
       "<IPython.core.display.HTML object>"
      ]
     },
     "metadata": {},
     "output_type": "display_data"
    },
    {
     "name": "stderr",
     "output_type": "stream",
     "text": [
      "[Parallel(n_jobs=1)]: Done   2 tasks      | elapsed:   25.2s\n"
     ]
    },
    {
     "data": {
      "text/html": [
       "Changes to your `wandb` environment variables will be ignored because your `wandb` session has already started. For more information on how to modify your settings with `wandb.init()` arguments, please refer to <a href=\"https://wandb.me/wandb-init\" target=\"_blank\">the W&B docs</a>."
      ],
      "text/plain": [
       "<IPython.core.display.HTML object>"
      ]
     },
     "metadata": {},
     "output_type": "display_data"
    },
    {
     "data": {
      "text/html": [
       "wandb version 0.17.0 is available!  To upgrade, please run:\n",
       " $ pip install wandb --upgrade"
      ],
      "text/plain": [
       "<IPython.core.display.HTML object>"
      ]
     },
     "metadata": {},
     "output_type": "display_data"
    },
    {
     "data": {
      "text/html": [
       "Tracking run with wandb version 0.12.21"
      ],
      "text/plain": [
       "<IPython.core.display.HTML object>"
      ]
     },
     "metadata": {},
     "output_type": "display_data"
    },
    {
     "data": {
      "text/html": [
       "Run data is saved locally in <code>C:\\Users\\andre\\wandb\\run-20240521_171812-ketff2hf</code>"
      ],
      "text/plain": [
       "<IPython.core.display.HTML object>"
      ]
     },
     "metadata": {},
     "output_type": "display_data"
    },
    {
     "data": {
      "text/html": [
       "Syncing run <strong><a href=\"https://wandb.ai/mstu/RNNModel/runs/ketff2hf\" target=\"_blank\">qWRE1BuN</a></strong> to <a href=\"https://wandb.ai/mstu/RNNModel\" target=\"_blank\">Weights & Biases</a> (<a href=\"https://wandb.me/run\" target=\"_blank\">docs</a>)<br/>"
      ],
      "text/plain": [
       "<IPython.core.display.HTML object>"
      ]
     },
     "metadata": {},
     "output_type": "display_data"
    },
    {
     "data": {
      "text/html": [
       "Waiting for W&B process to finish... <strong style=\"color:green\">(success).</strong>"
      ],
      "text/plain": [
       "<IPython.core.display.HTML object>"
      ]
     },
     "metadata": {},
     "output_type": "display_data"
    },
    {
     "data": {
      "text/html": [
       "Synced <strong style=\"color:#cdcd00\">qWRE1BuN</strong>: <a href=\"https://wandb.ai/mstu/RNNModel/runs/ketff2hf\" target=\"_blank\">https://wandb.ai/mstu/RNNModel/runs/ketff2hf</a><br/>Synced 5 W&B file(s), 0 media file(s), 0 artifact file(s) and 0 other file(s)"
      ],
      "text/plain": [
       "<IPython.core.display.HTML object>"
      ]
     },
     "metadata": {},
     "output_type": "display_data"
    },
    {
     "data": {
      "text/html": [
       "Find logs at: <code>.\\wandb\\run-20240521_171812-ketff2hf\\logs</code>"
      ],
      "text/plain": [
       "<IPython.core.display.HTML object>"
      ]
     },
     "metadata": {},
     "output_type": "display_data"
    },
    {
     "name": "stderr",
     "output_type": "stream",
     "text": [
      "[Parallel(n_jobs=1)]: Done   3 tasks      | elapsed:   37.7s\n"
     ]
    },
    {
     "data": {
      "text/html": [
       "Changes to your `wandb` environment variables will be ignored because your `wandb` session has already started. For more information on how to modify your settings with `wandb.init()` arguments, please refer to <a href=\"https://wandb.me/wandb-init\" target=\"_blank\">the W&B docs</a>."
      ],
      "text/plain": [
       "<IPython.core.display.HTML object>"
      ]
     },
     "metadata": {},
     "output_type": "display_data"
    },
    {
     "data": {
      "text/html": [
       "wandb version 0.17.0 is available!  To upgrade, please run:\n",
       " $ pip install wandb --upgrade"
      ],
      "text/plain": [
       "<IPython.core.display.HTML object>"
      ]
     },
     "metadata": {},
     "output_type": "display_data"
    },
    {
     "data": {
      "text/html": [
       "Tracking run with wandb version 0.12.21"
      ],
      "text/plain": [
       "<IPython.core.display.HTML object>"
      ]
     },
     "metadata": {},
     "output_type": "display_data"
    },
    {
     "data": {
      "text/html": [
       "Run data is saved locally in <code>C:\\Users\\andre\\wandb\\run-20240521_171825-slnslxnd</code>"
      ],
      "text/plain": [
       "<IPython.core.display.HTML object>"
      ]
     },
     "metadata": {},
     "output_type": "display_data"
    },
    {
     "data": {
      "text/html": [
       "Syncing run <strong><a href=\"https://wandb.ai/mstu/RNNModel/runs/slnslxnd\" target=\"_blank\">qWRE1BuN</a></strong> to <a href=\"https://wandb.ai/mstu/RNNModel\" target=\"_blank\">Weights & Biases</a> (<a href=\"https://wandb.me/run\" target=\"_blank\">docs</a>)<br/>"
      ],
      "text/plain": [
       "<IPython.core.display.HTML object>"
      ]
     },
     "metadata": {},
     "output_type": "display_data"
    },
    {
     "data": {
      "text/html": [
       "Waiting for W&B process to finish... <strong style=\"color:green\">(success).</strong>"
      ],
      "text/plain": [
       "<IPython.core.display.HTML object>"
      ]
     },
     "metadata": {},
     "output_type": "display_data"
    },
    {
     "data": {
      "text/html": [
       "Synced <strong style=\"color:#cdcd00\">qWRE1BuN</strong>: <a href=\"https://wandb.ai/mstu/RNNModel/runs/slnslxnd\" target=\"_blank\">https://wandb.ai/mstu/RNNModel/runs/slnslxnd</a><br/>Synced 5 W&B file(s), 0 media file(s), 0 artifact file(s) and 0 other file(s)"
      ],
      "text/plain": [
       "<IPython.core.display.HTML object>"
      ]
     },
     "metadata": {},
     "output_type": "display_data"
    },
    {
     "data": {
      "text/html": [
       "Find logs at: <code>.\\wandb\\run-20240521_171825-slnslxnd\\logs</code>"
      ],
      "text/plain": [
       "<IPython.core.display.HTML object>"
      ]
     },
     "metadata": {},
     "output_type": "display_data"
    },
    {
     "name": "stderr",
     "output_type": "stream",
     "text": [
      "[Parallel(n_jobs=1)]: Done   4 tasks      | elapsed:   52.5s\n"
     ]
    },
    {
     "data": {
      "text/html": [
       "Changes to your `wandb` environment variables will be ignored because your `wandb` session has already started. For more information on how to modify your settings with `wandb.init()` arguments, please refer to <a href=\"https://wandb.me/wandb-init\" target=\"_blank\">the W&B docs</a>."
      ],
      "text/plain": [
       "<IPython.core.display.HTML object>"
      ]
     },
     "metadata": {},
     "output_type": "display_data"
    },
    {
     "data": {
      "text/html": [
       "wandb version 0.17.0 is available!  To upgrade, please run:\n",
       " $ pip install wandb --upgrade"
      ],
      "text/plain": [
       "<IPython.core.display.HTML object>"
      ]
     },
     "metadata": {},
     "output_type": "display_data"
    },
    {
     "data": {
      "text/html": [
       "Tracking run with wandb version 0.12.21"
      ],
      "text/plain": [
       "<IPython.core.display.HTML object>"
      ]
     },
     "metadata": {},
     "output_type": "display_data"
    },
    {
     "data": {
      "text/html": [
       "Run data is saved locally in <code>C:\\Users\\andre\\wandb\\run-20240521_171840-8e5ctbo4</code>"
      ],
      "text/plain": [
       "<IPython.core.display.HTML object>"
      ]
     },
     "metadata": {},
     "output_type": "display_data"
    },
    {
     "data": {
      "text/html": [
       "Syncing run <strong><a href=\"https://wandb.ai/mstu/RNNModel/runs/8e5ctbo4\" target=\"_blank\">qWRE1BuN</a></strong> to <a href=\"https://wandb.ai/mstu/RNNModel\" target=\"_blank\">Weights & Biases</a> (<a href=\"https://wandb.me/run\" target=\"_blank\">docs</a>)<br/>"
      ],
      "text/plain": [
       "<IPython.core.display.HTML object>"
      ]
     },
     "metadata": {},
     "output_type": "display_data"
    },
    {
     "data": {
      "text/html": [
       "Waiting for W&B process to finish... <strong style=\"color:green\">(success).</strong>"
      ],
      "text/plain": [
       "<IPython.core.display.HTML object>"
      ]
     },
     "metadata": {},
     "output_type": "display_data"
    },
    {
     "data": {
      "text/html": [
       "Synced <strong style=\"color:#cdcd00\">qWRE1BuN</strong>: <a href=\"https://wandb.ai/mstu/RNNModel/runs/8e5ctbo4\" target=\"_blank\">https://wandb.ai/mstu/RNNModel/runs/8e5ctbo4</a><br/>Synced 5 W&B file(s), 0 media file(s), 0 artifact file(s) and 0 other file(s)"
      ],
      "text/plain": [
       "<IPython.core.display.HTML object>"
      ]
     },
     "metadata": {},
     "output_type": "display_data"
    },
    {
     "data": {
      "text/html": [
       "Find logs at: <code>.\\wandb\\run-20240521_171840-8e5ctbo4\\logs</code>"
      ],
      "text/plain": [
       "<IPython.core.display.HTML object>"
      ]
     },
     "metadata": {},
     "output_type": "display_data"
    },
    {
     "name": "stderr",
     "output_type": "stream",
     "text": [
      "[Parallel(n_jobs=1)]: Done   5 tasks      | elapsed:  1.1min\n",
      "[Parallel(n_jobs=1)]: Done   5 tasks      | elapsed:  1.1min\n"
     ]
    },
    {
     "data": {
      "text/html": [
       "Changes to your `wandb` environment variables will be ignored because your `wandb` session has already started. For more information on how to modify your settings with `wandb.init()` arguments, please refer to <a href=\"https://wandb.me/wandb-init\" target=\"_blank\">the W&B docs</a>."
      ],
      "text/plain": [
       "<IPython.core.display.HTML object>"
      ]
     },
     "metadata": {},
     "output_type": "display_data"
    },
    {
     "data": {
      "text/html": [
       "wandb version 0.17.0 is available!  To upgrade, please run:\n",
       " $ pip install wandb --upgrade"
      ],
      "text/plain": [
       "<IPython.core.display.HTML object>"
      ]
     },
     "metadata": {},
     "output_type": "display_data"
    },
    {
     "data": {
      "text/html": [
       "Tracking run with wandb version 0.12.21"
      ],
      "text/plain": [
       "<IPython.core.display.HTML object>"
      ]
     },
     "metadata": {},
     "output_type": "display_data"
    },
    {
     "data": {
      "text/html": [
       "Run data is saved locally in <code>C:\\Users\\andre\\wandb\\run-20240521_171852-r97xt16e</code>"
      ],
      "text/plain": [
       "<IPython.core.display.HTML object>"
      ]
     },
     "metadata": {},
     "output_type": "display_data"
    },
    {
     "data": {
      "text/html": [
       "Syncing run <strong><a href=\"https://wandb.ai/mstu/RNNModel/runs/r97xt16e\" target=\"_blank\">qWRE1BuN</a></strong> to <a href=\"https://wandb.ai/mstu/RNNModel\" target=\"_blank\">Weights & Biases</a> (<a href=\"https://wandb.me/run\" target=\"_blank\">docs</a>)<br/>"
      ],
      "text/plain": [
       "<IPython.core.display.HTML object>"
      ]
     },
     "metadata": {},
     "output_type": "display_data"
    },
    {
     "data": {
      "text/html": [
       "Waiting for W&B process to finish... <strong style=\"color:green\">(success).</strong>"
      ],
      "text/plain": [
       "<IPython.core.display.HTML object>"
      ]
     },
     "metadata": {},
     "output_type": "display_data"
    },
    {
     "data": {
      "text/html": [
       "<style>\n",
       "    table.wandb td:nth-child(1) { padding: 0 10px; text-align: left ; width: auto;} td:nth-child(2) {text-align: left ; width: 100%}\n",
       "    .wandb-row { display: flex; flex-direction: row; flex-wrap: wrap; justify-content: flex-start; width: 100% }\n",
       "    .wandb-col { display: flex; flex-direction: column; flex-basis: 100%; flex: 1; padding: 10px; }\n",
       "    </style>\n",
       "<div class=\"wandb-row\"><div class=\"wandb-col\"><h3>Run history:</h3><br/><table class=\"wandb\"><tr><td>MAE_mean</td><td>▁</td></tr><tr><td>MAE_median</td><td>▁</td></tr><tr><td>MAE_percentile_25</td><td>▁</td></tr><tr><td>MAE_percentile_5</td><td>▁</td></tr><tr><td>MAE_percentile_75</td><td>▁</td></tr><tr><td>MAE_percentile_95</td><td>▁</td></tr><tr><td>MSE_mean</td><td>▁</td></tr><tr><td>MSE_median</td><td>▁</td></tr><tr><td>MSE_percentile_25</td><td>▁</td></tr><tr><td>MSE_percentile_5</td><td>▁</td></tr><tr><td>MSE_percentile_75</td><td>▁</td></tr><tr><td>MSE_percentile_95</td><td>▁</td></tr><tr><td>SMAPE_mean</td><td>▁</td></tr><tr><td>SMAPE_median</td><td>▁</td></tr><tr><td>SMAPE_percentile_25</td><td>▁</td></tr><tr><td>SMAPE_percentile_5</td><td>▁</td></tr><tr><td>SMAPE_percentile_75</td><td>▁</td></tr><tr><td>SMAPE_percentile_95</td><td>▁</td></tr></table><br/></div><div class=\"wandb-col\"><h3>Run summary:</h3><br/><table class=\"wandb\"><tr><td>MAE_mean</td><td>28.03246</td></tr><tr><td>MAE_median</td><td>28.03246</td></tr><tr><td>MAE_percentile_25</td><td>28.03246</td></tr><tr><td>MAE_percentile_5</td><td>28.03246</td></tr><tr><td>MAE_percentile_75</td><td>28.03246</td></tr><tr><td>MAE_percentile_95</td><td>28.03246</td></tr><tr><td>MAE_std</td><td>nan</td></tr><tr><td>MSE_mean</td><td>1325.22127</td></tr><tr><td>MSE_median</td><td>1325.22127</td></tr><tr><td>MSE_percentile_25</td><td>1325.22127</td></tr><tr><td>MSE_percentile_5</td><td>1325.22127</td></tr><tr><td>MSE_percentile_75</td><td>1325.22127</td></tr><tr><td>MSE_percentile_95</td><td>1325.22127</td></tr><tr><td>MSE_std</td><td>nan</td></tr><tr><td>SMAPE_mean</td><td>5.85824</td></tr><tr><td>SMAPE_median</td><td>5.85824</td></tr><tr><td>SMAPE_percentile_25</td><td>5.85824</td></tr><tr><td>SMAPE_percentile_5</td><td>5.85824</td></tr><tr><td>SMAPE_percentile_75</td><td>5.85824</td></tr><tr><td>SMAPE_percentile_95</td><td>5.85824</td></tr><tr><td>SMAPE_std</td><td>nan</td></tr></table><br/></div></div>"
      ],
      "text/plain": [
       "<IPython.core.display.HTML object>"
      ]
     },
     "metadata": {},
     "output_type": "display_data"
    },
    {
     "data": {
      "text/html": [
       "Synced <strong style=\"color:#cdcd00\">qWRE1BuN</strong>: <a href=\"https://wandb.ai/mstu/RNNModel/runs/r97xt16e\" target=\"_blank\">https://wandb.ai/mstu/RNNModel/runs/r97xt16e</a><br/>Synced 5 W&B file(s), 3 media file(s), 3 artifact file(s) and 0 other file(s)"
      ],
      "text/plain": [
       "<IPython.core.display.HTML object>"
      ]
     },
     "metadata": {},
     "output_type": "display_data"
    },
    {
     "data": {
      "text/html": [
       "Find logs at: <code>.\\wandb\\run-20240521_171852-r97xt16e\\logs</code>"
      ],
      "text/plain": [
       "<IPython.core.display.HTML object>"
      ]
     },
     "metadata": {},
     "output_type": "display_data"
    },
    {
     "name": "stderr",
     "output_type": "stream",
     "text": [
      "[Parallel(n_jobs=1)]: Done   1 tasks      | elapsed:   25.4s\n"
     ]
    },
    {
     "data": {
      "text/html": [
       "Changes to your `wandb` environment variables will be ignored because your `wandb` session has already started. For more information on how to modify your settings with `wandb.init()` arguments, please refer to <a href=\"https://wandb.me/wandb-init\" target=\"_blank\">the W&B docs</a>."
      ],
      "text/plain": [
       "<IPython.core.display.HTML object>"
      ]
     },
     "metadata": {},
     "output_type": "display_data"
    },
    {
     "data": {
      "text/html": [
       "wandb version 0.17.0 is available!  To upgrade, please run:\n",
       " $ pip install wandb --upgrade"
      ],
      "text/plain": [
       "<IPython.core.display.HTML object>"
      ]
     },
     "metadata": {},
     "output_type": "display_data"
    },
    {
     "data": {
      "text/html": [
       "Tracking run with wandb version 0.12.21"
      ],
      "text/plain": [
       "<IPython.core.display.HTML object>"
      ]
     },
     "metadata": {},
     "output_type": "display_data"
    },
    {
     "data": {
      "text/html": [
       "Run data is saved locally in <code>C:\\Users\\andre\\wandb\\run-20240521_171918-zq8i2agc</code>"
      ],
      "text/plain": [
       "<IPython.core.display.HTML object>"
      ]
     },
     "metadata": {},
     "output_type": "display_data"
    },
    {
     "data": {
      "text/html": [
       "Syncing run <strong><a href=\"https://wandb.ai/mstu/RNNModel/runs/zq8i2agc\" target=\"_blank\">qWRE1BuN</a></strong> to <a href=\"https://wandb.ai/mstu/RNNModel\" target=\"_blank\">Weights & Biases</a> (<a href=\"https://wandb.me/run\" target=\"_blank\">docs</a>)<br/>"
      ],
      "text/plain": [
       "<IPython.core.display.HTML object>"
      ]
     },
     "metadata": {},
     "output_type": "display_data"
    },
    {
     "data": {
      "text/html": [
       "Waiting for W&B process to finish... <strong style=\"color:green\">(success).</strong>"
      ],
      "text/plain": [
       "<IPython.core.display.HTML object>"
      ]
     },
     "metadata": {},
     "output_type": "display_data"
    },
    {
     "data": {
      "text/html": [
       "<style>\n",
       "    table.wandb td:nth-child(1) { padding: 0 10px; text-align: left ; width: auto;} td:nth-child(2) {text-align: left ; width: 100%}\n",
       "    .wandb-row { display: flex; flex-direction: row; flex-wrap: wrap; justify-content: flex-start; width: 100% }\n",
       "    .wandb-col { display: flex; flex-direction: column; flex-basis: 100%; flex: 1; padding: 10px; }\n",
       "    </style>\n",
       "<div class=\"wandb-row\"><div class=\"wandb-col\"><h3>Run history:</h3><br/><table class=\"wandb\"><tr><td>MAE_mean</td><td>▁</td></tr><tr><td>MAE_median</td><td>▁</td></tr><tr><td>MAE_percentile_25</td><td>▁</td></tr><tr><td>MAE_percentile_5</td><td>▁</td></tr><tr><td>MAE_percentile_75</td><td>▁</td></tr><tr><td>MAE_percentile_95</td><td>▁</td></tr><tr><td>MSE_mean</td><td>▁</td></tr><tr><td>MSE_median</td><td>▁</td></tr><tr><td>MSE_percentile_25</td><td>▁</td></tr><tr><td>MSE_percentile_5</td><td>▁</td></tr><tr><td>MSE_percentile_75</td><td>▁</td></tr><tr><td>MSE_percentile_95</td><td>▁</td></tr><tr><td>SMAPE_mean</td><td>▁</td></tr><tr><td>SMAPE_median</td><td>▁</td></tr><tr><td>SMAPE_percentile_25</td><td>▁</td></tr><tr><td>SMAPE_percentile_5</td><td>▁</td></tr><tr><td>SMAPE_percentile_75</td><td>▁</td></tr><tr><td>SMAPE_percentile_95</td><td>▁</td></tr></table><br/></div><div class=\"wandb-col\"><h3>Run summary:</h3><br/><table class=\"wandb\"><tr><td>MAE_mean</td><td>41.50263</td></tr><tr><td>MAE_median</td><td>41.50263</td></tr><tr><td>MAE_percentile_25</td><td>41.50263</td></tr><tr><td>MAE_percentile_5</td><td>41.50263</td></tr><tr><td>MAE_percentile_75</td><td>41.50263</td></tr><tr><td>MAE_percentile_95</td><td>41.50263</td></tr><tr><td>MAE_std</td><td>nan</td></tr><tr><td>MSE_mean</td><td>2364.05367</td></tr><tr><td>MSE_median</td><td>2364.05367</td></tr><tr><td>MSE_percentile_25</td><td>2364.05367</td></tr><tr><td>MSE_percentile_5</td><td>2364.05367</td></tr><tr><td>MSE_percentile_75</td><td>2364.05367</td></tr><tr><td>MSE_percentile_95</td><td>2364.05367</td></tr><tr><td>MSE_std</td><td>nan</td></tr><tr><td>SMAPE_mean</td><td>11.40707</td></tr><tr><td>SMAPE_median</td><td>11.40707</td></tr><tr><td>SMAPE_percentile_25</td><td>11.40707</td></tr><tr><td>SMAPE_percentile_5</td><td>11.40707</td></tr><tr><td>SMAPE_percentile_75</td><td>11.40707</td></tr><tr><td>SMAPE_percentile_95</td><td>11.40707</td></tr><tr><td>SMAPE_std</td><td>nan</td></tr></table><br/></div></div>"
      ],
      "text/plain": [
       "<IPython.core.display.HTML object>"
      ]
     },
     "metadata": {},
     "output_type": "display_data"
    },
    {
     "data": {
      "text/html": [
       "Synced <strong style=\"color:#cdcd00\">qWRE1BuN</strong>: <a href=\"https://wandb.ai/mstu/RNNModel/runs/zq8i2agc\" target=\"_blank\">https://wandb.ai/mstu/RNNModel/runs/zq8i2agc</a><br/>Synced 5 W&B file(s), 3 media file(s), 3 artifact file(s) and 0 other file(s)"
      ],
      "text/plain": [
       "<IPython.core.display.HTML object>"
      ]
     },
     "metadata": {},
     "output_type": "display_data"
    },
    {
     "data": {
      "text/html": [
       "Find logs at: <code>.\\wandb\\run-20240521_171918-zq8i2agc\\logs</code>"
      ],
      "text/plain": [
       "<IPython.core.display.HTML object>"
      ]
     },
     "metadata": {},
     "output_type": "display_data"
    },
    {
     "name": "stderr",
     "output_type": "stream",
     "text": [
      "[Parallel(n_jobs=1)]: Done   2 tasks      | elapsed:   53.0s\n"
     ]
    },
    {
     "data": {
      "text/html": [
       "Changes to your `wandb` environment variables will be ignored because your `wandb` session has already started. For more information on how to modify your settings with `wandb.init()` arguments, please refer to <a href=\"https://wandb.me/wandb-init\" target=\"_blank\">the W&B docs</a>."
      ],
      "text/plain": [
       "<IPython.core.display.HTML object>"
      ]
     },
     "metadata": {},
     "output_type": "display_data"
    },
    {
     "data": {
      "text/html": [
       "wandb version 0.17.0 is available!  To upgrade, please run:\n",
       " $ pip install wandb --upgrade"
      ],
      "text/plain": [
       "<IPython.core.display.HTML object>"
      ]
     },
     "metadata": {},
     "output_type": "display_data"
    },
    {
     "data": {
      "text/html": [
       "Tracking run with wandb version 0.12.21"
      ],
      "text/plain": [
       "<IPython.core.display.HTML object>"
      ]
     },
     "metadata": {},
     "output_type": "display_data"
    },
    {
     "data": {
      "text/html": [
       "Run data is saved locally in <code>C:\\Users\\andre\\wandb\\run-20240521_171946-x5tkfk90</code>"
      ],
      "text/plain": [
       "<IPython.core.display.HTML object>"
      ]
     },
     "metadata": {},
     "output_type": "display_data"
    },
    {
     "data": {
      "text/html": [
       "Syncing run <strong><a href=\"https://wandb.ai/mstu/RNNModel/runs/x5tkfk90\" target=\"_blank\">qWRE1BuN</a></strong> to <a href=\"https://wandb.ai/mstu/RNNModel\" target=\"_blank\">Weights & Biases</a> (<a href=\"https://wandb.me/run\" target=\"_blank\">docs</a>)<br/>"
      ],
      "text/plain": [
       "<IPython.core.display.HTML object>"
      ]
     },
     "metadata": {},
     "output_type": "display_data"
    },
    {
     "data": {
      "text/html": [
       "Waiting for W&B process to finish... <strong style=\"color:green\">(success).</strong>"
      ],
      "text/plain": [
       "<IPython.core.display.HTML object>"
      ]
     },
     "metadata": {},
     "output_type": "display_data"
    },
    {
     "data": {
      "text/html": [
       "<style>\n",
       "    table.wandb td:nth-child(1) { padding: 0 10px; text-align: left ; width: auto;} td:nth-child(2) {text-align: left ; width: 100%}\n",
       "    .wandb-row { display: flex; flex-direction: row; flex-wrap: wrap; justify-content: flex-start; width: 100% }\n",
       "    .wandb-col { display: flex; flex-direction: column; flex-basis: 100%; flex: 1; padding: 10px; }\n",
       "    </style>\n",
       "<div class=\"wandb-row\"><div class=\"wandb-col\"><h3>Run history:</h3><br/><table class=\"wandb\"><tr><td>MAE_mean</td><td>▁</td></tr><tr><td>MAE_median</td><td>▁</td></tr><tr><td>MAE_percentile_25</td><td>▁</td></tr><tr><td>MAE_percentile_5</td><td>▁</td></tr><tr><td>MAE_percentile_75</td><td>▁</td></tr><tr><td>MAE_percentile_95</td><td>▁</td></tr><tr><td>MSE_mean</td><td>▁</td></tr><tr><td>MSE_median</td><td>▁</td></tr><tr><td>MSE_percentile_25</td><td>▁</td></tr><tr><td>MSE_percentile_5</td><td>▁</td></tr><tr><td>MSE_percentile_75</td><td>▁</td></tr><tr><td>MSE_percentile_95</td><td>▁</td></tr><tr><td>SMAPE_mean</td><td>▁</td></tr><tr><td>SMAPE_median</td><td>▁</td></tr><tr><td>SMAPE_percentile_25</td><td>▁</td></tr><tr><td>SMAPE_percentile_5</td><td>▁</td></tr><tr><td>SMAPE_percentile_75</td><td>▁</td></tr><tr><td>SMAPE_percentile_95</td><td>▁</td></tr></table><br/></div><div class=\"wandb-col\"><h3>Run summary:</h3><br/><table class=\"wandb\"><tr><td>MAE_mean</td><td>50.28519</td></tr><tr><td>MAE_median</td><td>50.28519</td></tr><tr><td>MAE_percentile_25</td><td>50.28519</td></tr><tr><td>MAE_percentile_5</td><td>50.28519</td></tr><tr><td>MAE_percentile_75</td><td>50.28519</td></tr><tr><td>MAE_percentile_95</td><td>50.28519</td></tr><tr><td>MAE_std</td><td>nan</td></tr><tr><td>MSE_mean</td><td>5125.90057</td></tr><tr><td>MSE_median</td><td>5125.90057</td></tr><tr><td>MSE_percentile_25</td><td>5125.90057</td></tr><tr><td>MSE_percentile_5</td><td>5125.90057</td></tr><tr><td>MSE_percentile_75</td><td>5125.90057</td></tr><tr><td>MSE_percentile_95</td><td>5125.90057</td></tr><tr><td>MSE_std</td><td>nan</td></tr><tr><td>SMAPE_mean</td><td>11.1189</td></tr><tr><td>SMAPE_median</td><td>11.1189</td></tr><tr><td>SMAPE_percentile_25</td><td>11.1189</td></tr><tr><td>SMAPE_percentile_5</td><td>11.1189</td></tr><tr><td>SMAPE_percentile_75</td><td>11.1189</td></tr><tr><td>SMAPE_percentile_95</td><td>11.1189</td></tr><tr><td>SMAPE_std</td><td>nan</td></tr></table><br/></div></div>"
      ],
      "text/plain": [
       "<IPython.core.display.HTML object>"
      ]
     },
     "metadata": {},
     "output_type": "display_data"
    },
    {
     "data": {
      "text/html": [
       "Synced <strong style=\"color:#cdcd00\">qWRE1BuN</strong>: <a href=\"https://wandb.ai/mstu/RNNModel/runs/x5tkfk90\" target=\"_blank\">https://wandb.ai/mstu/RNNModel/runs/x5tkfk90</a><br/>Synced 5 W&B file(s), 3 media file(s), 3 artifact file(s) and 0 other file(s)"
      ],
      "text/plain": [
       "<IPython.core.display.HTML object>"
      ]
     },
     "metadata": {},
     "output_type": "display_data"
    },
    {
     "data": {
      "text/html": [
       "Find logs at: <code>.\\wandb\\run-20240521_171946-x5tkfk90\\logs</code>"
      ],
      "text/plain": [
       "<IPython.core.display.HTML object>"
      ]
     },
     "metadata": {},
     "output_type": "display_data"
    },
    {
     "name": "stderr",
     "output_type": "stream",
     "text": [
      "[Parallel(n_jobs=1)]: Done   3 tasks      | elapsed:  1.3min\n"
     ]
    },
    {
     "data": {
      "text/html": [
       "Changes to your `wandb` environment variables will be ignored because your `wandb` session has already started. For more information on how to modify your settings with `wandb.init()` arguments, please refer to <a href=\"https://wandb.me/wandb-init\" target=\"_blank\">the W&B docs</a>."
      ],
      "text/plain": [
       "<IPython.core.display.HTML object>"
      ]
     },
     "metadata": {},
     "output_type": "display_data"
    },
    {
     "data": {
      "text/html": [
       "wandb version 0.17.0 is available!  To upgrade, please run:\n",
       " $ pip install wandb --upgrade"
      ],
      "text/plain": [
       "<IPython.core.display.HTML object>"
      ]
     },
     "metadata": {},
     "output_type": "display_data"
    },
    {
     "data": {
      "text/html": [
       "Tracking run with wandb version 0.12.21"
      ],
      "text/plain": [
       "<IPython.core.display.HTML object>"
      ]
     },
     "metadata": {},
     "output_type": "display_data"
    },
    {
     "data": {
      "text/html": [
       "Run data is saved locally in <code>C:\\Users\\andre\\wandb\\run-20240521_172012-vstw44f1</code>"
      ],
      "text/plain": [
       "<IPython.core.display.HTML object>"
      ]
     },
     "metadata": {},
     "output_type": "display_data"
    },
    {
     "data": {
      "text/html": [
       "Syncing run <strong><a href=\"https://wandb.ai/mstu/RNNModel/runs/vstw44f1\" target=\"_blank\">qWRE1BuN</a></strong> to <a href=\"https://wandb.ai/mstu/RNNModel\" target=\"_blank\">Weights & Biases</a> (<a href=\"https://wandb.me/run\" target=\"_blank\">docs</a>)<br/>"
      ],
      "text/plain": [
       "<IPython.core.display.HTML object>"
      ]
     },
     "metadata": {},
     "output_type": "display_data"
    },
    {
     "data": {
      "text/html": [
       "Waiting for W&B process to finish... <strong style=\"color:green\">(success).</strong>"
      ],
      "text/plain": [
       "<IPython.core.display.HTML object>"
      ]
     },
     "metadata": {},
     "output_type": "display_data"
    },
    {
     "data": {
      "text/html": [
       "<style>\n",
       "    table.wandb td:nth-child(1) { padding: 0 10px; text-align: left ; width: auto;} td:nth-child(2) {text-align: left ; width: 100%}\n",
       "    .wandb-row { display: flex; flex-direction: row; flex-wrap: wrap; justify-content: flex-start; width: 100% }\n",
       "    .wandb-col { display: flex; flex-direction: column; flex-basis: 100%; flex: 1; padding: 10px; }\n",
       "    </style>\n",
       "<div class=\"wandb-row\"><div class=\"wandb-col\"><h3>Run history:</h3><br/><table class=\"wandb\"><tr><td>MAE_mean</td><td>▁</td></tr><tr><td>MAE_median</td><td>▁</td></tr><tr><td>MAE_percentile_25</td><td>▁</td></tr><tr><td>MAE_percentile_5</td><td>▁</td></tr><tr><td>MAE_percentile_75</td><td>▁</td></tr><tr><td>MAE_percentile_95</td><td>▁</td></tr><tr><td>MSE_mean</td><td>▁</td></tr><tr><td>MSE_median</td><td>▁</td></tr><tr><td>MSE_percentile_25</td><td>▁</td></tr><tr><td>MSE_percentile_5</td><td>▁</td></tr><tr><td>MSE_percentile_75</td><td>▁</td></tr><tr><td>MSE_percentile_95</td><td>▁</td></tr><tr><td>SMAPE_mean</td><td>▁</td></tr><tr><td>SMAPE_median</td><td>▁</td></tr><tr><td>SMAPE_percentile_25</td><td>▁</td></tr><tr><td>SMAPE_percentile_5</td><td>▁</td></tr><tr><td>SMAPE_percentile_75</td><td>▁</td></tr><tr><td>SMAPE_percentile_95</td><td>▁</td></tr></table><br/></div><div class=\"wandb-col\"><h3>Run summary:</h3><br/><table class=\"wandb\"><tr><td>MAE_mean</td><td>18.38753</td></tr><tr><td>MAE_median</td><td>18.38753</td></tr><tr><td>MAE_percentile_25</td><td>18.38753</td></tr><tr><td>MAE_percentile_5</td><td>18.38753</td></tr><tr><td>MAE_percentile_75</td><td>18.38753</td></tr><tr><td>MAE_percentile_95</td><td>18.38753</td></tr><tr><td>MAE_std</td><td>nan</td></tr><tr><td>MSE_mean</td><td>486.84706</td></tr><tr><td>MSE_median</td><td>486.84706</td></tr><tr><td>MSE_percentile_25</td><td>486.84706</td></tr><tr><td>MSE_percentile_5</td><td>486.84706</td></tr><tr><td>MSE_percentile_75</td><td>486.84706</td></tr><tr><td>MSE_percentile_95</td><td>486.84706</td></tr><tr><td>MSE_std</td><td>nan</td></tr><tr><td>SMAPE_mean</td><td>4.89404</td></tr><tr><td>SMAPE_median</td><td>4.89404</td></tr><tr><td>SMAPE_percentile_25</td><td>4.89404</td></tr><tr><td>SMAPE_percentile_5</td><td>4.89404</td></tr><tr><td>SMAPE_percentile_75</td><td>4.89404</td></tr><tr><td>SMAPE_percentile_95</td><td>4.89404</td></tr><tr><td>SMAPE_std</td><td>nan</td></tr></table><br/></div></div>"
      ],
      "text/plain": [
       "<IPython.core.display.HTML object>"
      ]
     },
     "metadata": {},
     "output_type": "display_data"
    },
    {
     "data": {
      "text/html": [
       "Synced <strong style=\"color:#cdcd00\">qWRE1BuN</strong>: <a href=\"https://wandb.ai/mstu/RNNModel/runs/vstw44f1\" target=\"_blank\">https://wandb.ai/mstu/RNNModel/runs/vstw44f1</a><br/>Synced 5 W&B file(s), 3 media file(s), 3 artifact file(s) and 0 other file(s)"
      ],
      "text/plain": [
       "<IPython.core.display.HTML object>"
      ]
     },
     "metadata": {},
     "output_type": "display_data"
    },
    {
     "data": {
      "text/html": [
       "Find logs at: <code>.\\wandb\\run-20240521_172012-vstw44f1\\logs</code>"
      ],
      "text/plain": [
       "<IPython.core.display.HTML object>"
      ]
     },
     "metadata": {},
     "output_type": "display_data"
    },
    {
     "name": "stderr",
     "output_type": "stream",
     "text": [
      "[Parallel(n_jobs=1)]: Done   4 tasks      | elapsed:  1.7min\n"
     ]
    },
    {
     "data": {
      "text/html": [
       "Changes to your `wandb` environment variables will be ignored because your `wandb` session has already started. For more information on how to modify your settings with `wandb.init()` arguments, please refer to <a href=\"https://wandb.me/wandb-init\" target=\"_blank\">the W&B docs</a>."
      ],
      "text/plain": [
       "<IPython.core.display.HTML object>"
      ]
     },
     "metadata": {},
     "output_type": "display_data"
    },
    {
     "data": {
      "text/html": [
       "wandb version 0.17.0 is available!  To upgrade, please run:\n",
       " $ pip install wandb --upgrade"
      ],
      "text/plain": [
       "<IPython.core.display.HTML object>"
      ]
     },
     "metadata": {},
     "output_type": "display_data"
    },
    {
     "data": {
      "text/html": [
       "Tracking run with wandb version 0.12.21"
      ],
      "text/plain": [
       "<IPython.core.display.HTML object>"
      ]
     },
     "metadata": {},
     "output_type": "display_data"
    },
    {
     "data": {
      "text/html": [
       "Run data is saved locally in <code>C:\\Users\\andre\\wandb\\run-20240521_172038-jhu0s2z6</code>"
      ],
      "text/plain": [
       "<IPython.core.display.HTML object>"
      ]
     },
     "metadata": {},
     "output_type": "display_data"
    },
    {
     "data": {
      "text/html": [
       "Syncing run <strong><a href=\"https://wandb.ai/mstu/RNNModel/runs/jhu0s2z6\" target=\"_blank\">qWRE1BuN</a></strong> to <a href=\"https://wandb.ai/mstu/RNNModel\" target=\"_blank\">Weights & Biases</a> (<a href=\"https://wandb.me/run\" target=\"_blank\">docs</a>)<br/>"
      ],
      "text/plain": [
       "<IPython.core.display.HTML object>"
      ]
     },
     "metadata": {},
     "output_type": "display_data"
    },
    {
     "data": {
      "text/html": [
       "Waiting for W&B process to finish... <strong style=\"color:green\">(success).</strong>"
      ],
      "text/plain": [
       "<IPython.core.display.HTML object>"
      ]
     },
     "metadata": {},
     "output_type": "display_data"
    },
    {
     "data": {
      "text/html": [
       "<style>\n",
       "    table.wandb td:nth-child(1) { padding: 0 10px; text-align: left ; width: auto;} td:nth-child(2) {text-align: left ; width: 100%}\n",
       "    .wandb-row { display: flex; flex-direction: row; flex-wrap: wrap; justify-content: flex-start; width: 100% }\n",
       "    .wandb-col { display: flex; flex-direction: column; flex-basis: 100%; flex: 1; padding: 10px; }\n",
       "    </style>\n",
       "<div class=\"wandb-row\"><div class=\"wandb-col\"><h3>Run history:</h3><br/><table class=\"wandb\"><tr><td>MAE_mean</td><td>▁</td></tr><tr><td>MAE_median</td><td>▁</td></tr><tr><td>MAE_percentile_25</td><td>▁</td></tr><tr><td>MAE_percentile_5</td><td>▁</td></tr><tr><td>MAE_percentile_75</td><td>▁</td></tr><tr><td>MAE_percentile_95</td><td>▁</td></tr><tr><td>MSE_mean</td><td>▁</td></tr><tr><td>MSE_median</td><td>▁</td></tr><tr><td>MSE_percentile_25</td><td>▁</td></tr><tr><td>MSE_percentile_5</td><td>▁</td></tr><tr><td>MSE_percentile_75</td><td>▁</td></tr><tr><td>MSE_percentile_95</td><td>▁</td></tr><tr><td>SMAPE_mean</td><td>▁</td></tr><tr><td>SMAPE_median</td><td>▁</td></tr><tr><td>SMAPE_percentile_25</td><td>▁</td></tr><tr><td>SMAPE_percentile_5</td><td>▁</td></tr><tr><td>SMAPE_percentile_75</td><td>▁</td></tr><tr><td>SMAPE_percentile_95</td><td>▁</td></tr></table><br/></div><div class=\"wandb-col\"><h3>Run summary:</h3><br/><table class=\"wandb\"><tr><td>MAE_mean</td><td>161.57731</td></tr><tr><td>MAE_median</td><td>161.57731</td></tr><tr><td>MAE_percentile_25</td><td>161.57731</td></tr><tr><td>MAE_percentile_5</td><td>161.57731</td></tr><tr><td>MAE_percentile_75</td><td>161.57731</td></tr><tr><td>MAE_percentile_95</td><td>161.57731</td></tr><tr><td>MAE_std</td><td>nan</td></tr><tr><td>MSE_mean</td><td>34918.81773</td></tr><tr><td>MSE_median</td><td>34918.81773</td></tr><tr><td>MSE_percentile_25</td><td>34918.81773</td></tr><tr><td>MSE_percentile_5</td><td>34918.81773</td></tr><tr><td>MSE_percentile_75</td><td>34918.81773</td></tr><tr><td>MSE_percentile_95</td><td>34918.81773</td></tr><tr><td>MSE_std</td><td>nan</td></tr><tr><td>SMAPE_mean</td><td>30.86369</td></tr><tr><td>SMAPE_median</td><td>30.86369</td></tr><tr><td>SMAPE_percentile_25</td><td>30.86369</td></tr><tr><td>SMAPE_percentile_5</td><td>30.86369</td></tr><tr><td>SMAPE_percentile_75</td><td>30.86369</td></tr><tr><td>SMAPE_percentile_95</td><td>30.86369</td></tr><tr><td>SMAPE_std</td><td>nan</td></tr></table><br/></div></div>"
      ],
      "text/plain": [
       "<IPython.core.display.HTML object>"
      ]
     },
     "metadata": {},
     "output_type": "display_data"
    },
    {
     "data": {
      "text/html": [
       "Synced <strong style=\"color:#cdcd00\">qWRE1BuN</strong>: <a href=\"https://wandb.ai/mstu/RNNModel/runs/jhu0s2z6\" target=\"_blank\">https://wandb.ai/mstu/RNNModel/runs/jhu0s2z6</a><br/>Synced 5 W&B file(s), 3 media file(s), 3 artifact file(s) and 0 other file(s)"
      ],
      "text/plain": [
       "<IPython.core.display.HTML object>"
      ]
     },
     "metadata": {},
     "output_type": "display_data"
    },
    {
     "data": {
      "text/html": [
       "Find logs at: <code>.\\wandb\\run-20240521_172038-jhu0s2z6\\logs</code>"
      ],
      "text/plain": [
       "<IPython.core.display.HTML object>"
      ]
     },
     "metadata": {},
     "output_type": "display_data"
    },
    {
     "name": "stderr",
     "output_type": "stream",
     "text": [
      "[Parallel(n_jobs=1)]: Done   5 tasks      | elapsed:  2.2min\n",
      "[Parallel(n_jobs=1)]: Done   5 tasks      | elapsed:  2.2min\n"
     ]
    },
    {
     "data": {
      "text/html": [
       "Changes to your `wandb` environment variables will be ignored because your `wandb` session has already started. For more information on how to modify your settings with `wandb.init()` arguments, please refer to <a href=\"https://wandb.me/wandb-init\" target=\"_blank\">the W&B docs</a>."
      ],
      "text/plain": [
       "<IPython.core.display.HTML object>"
      ]
     },
     "metadata": {},
     "output_type": "display_data"
    },
    {
     "data": {
      "text/html": [
       "wandb version 0.17.0 is available!  To upgrade, please run:\n",
       " $ pip install wandb --upgrade"
      ],
      "text/plain": [
       "<IPython.core.display.HTML object>"
      ]
     },
     "metadata": {},
     "output_type": "display_data"
    },
    {
     "data": {
      "text/html": [
       "Tracking run with wandb version 0.12.21"
      ],
      "text/plain": [
       "<IPython.core.display.HTML object>"
      ]
     },
     "metadata": {},
     "output_type": "display_data"
    },
    {
     "data": {
      "text/html": [
       "Run data is saved locally in <code>C:\\Users\\andre\\wandb\\run-20240521_172103-12p8o265</code>"
      ],
      "text/plain": [
       "<IPython.core.display.HTML object>"
      ]
     },
     "metadata": {},
     "output_type": "display_data"
    },
    {
     "data": {
      "text/html": [
       "Syncing run <strong><a href=\"https://wandb.ai/mstu/RNNModel/runs/12p8o265\" target=\"_blank\">qWRE1BuN</a></strong> to <a href=\"https://wandb.ai/mstu/RNNModel\" target=\"_blank\">Weights & Biases</a> (<a href=\"https://wandb.me/run\" target=\"_blank\">docs</a>)<br/>"
      ],
      "text/plain": [
       "<IPython.core.display.HTML object>"
      ]
     },
     "metadata": {},
     "output_type": "display_data"
    },
    {
     "data": {
      "text/html": [
       "Waiting for W&B process to finish... <strong style=\"color:green\">(success).</strong>"
      ],
      "text/plain": [
       "<IPython.core.display.HTML object>"
      ]
     },
     "metadata": {},
     "output_type": "display_data"
    },
    {
     "data": {
      "text/html": [
       "<style>\n",
       "    table.wandb td:nth-child(1) { padding: 0 10px; text-align: left ; width: auto;} td:nth-child(2) {text-align: left ; width: 100%}\n",
       "    .wandb-row { display: flex; flex-direction: row; flex-wrap: wrap; justify-content: flex-start; width: 100% }\n",
       "    .wandb-col { display: flex; flex-direction: column; flex-basis: 100%; flex: 1; padding: 10px; }\n",
       "    </style>\n",
       "<div class=\"wandb-row\"><div class=\"wandb-col\"><h3>Run history:</h3><br/><table class=\"wandb\"><tr><td>MAE_mean</td><td>▁</td></tr><tr><td>MAE_median</td><td>▁</td></tr><tr><td>MAE_percentile_25</td><td>▁</td></tr><tr><td>MAE_percentile_5</td><td>▁</td></tr><tr><td>MAE_percentile_75</td><td>▁</td></tr><tr><td>MAE_percentile_95</td><td>▁</td></tr><tr><td>MSE_mean</td><td>▁</td></tr><tr><td>MSE_median</td><td>▁</td></tr><tr><td>MSE_percentile_25</td><td>▁</td></tr><tr><td>MSE_percentile_5</td><td>▁</td></tr><tr><td>MSE_percentile_75</td><td>▁</td></tr><tr><td>MSE_percentile_95</td><td>▁</td></tr><tr><td>SMAPE_mean</td><td>▁</td></tr><tr><td>SMAPE_median</td><td>▁</td></tr><tr><td>SMAPE_percentile_25</td><td>▁</td></tr><tr><td>SMAPE_percentile_5</td><td>▁</td></tr><tr><td>SMAPE_percentile_75</td><td>▁</td></tr><tr><td>SMAPE_percentile_95</td><td>▁</td></tr></table><br/></div><div class=\"wandb-col\"><h3>Run summary:</h3><br/><table class=\"wandb\"><tr><td>MAE_mean</td><td>59.95702</td></tr><tr><td>MAE_median</td><td>59.95702</td></tr><tr><td>MAE_percentile_25</td><td>59.95702</td></tr><tr><td>MAE_percentile_5</td><td>59.95702</td></tr><tr><td>MAE_percentile_75</td><td>59.95702</td></tr><tr><td>MAE_percentile_95</td><td>59.95702</td></tr><tr><td>MAE_std</td><td>nan</td></tr><tr><td>MSE_mean</td><td>8844.16806</td></tr><tr><td>MSE_median</td><td>8844.16806</td></tr><tr><td>MSE_percentile_25</td><td>8844.16806</td></tr><tr><td>MSE_percentile_5</td><td>8844.16806</td></tr><tr><td>MSE_percentile_75</td><td>8844.16806</td></tr><tr><td>MSE_percentile_95</td><td>8844.16806</td></tr><tr><td>MSE_std</td><td>nan</td></tr><tr><td>SMAPE_mean</td><td>12.82839</td></tr><tr><td>SMAPE_median</td><td>12.82839</td></tr><tr><td>SMAPE_percentile_25</td><td>12.82839</td></tr><tr><td>SMAPE_percentile_5</td><td>12.82839</td></tr><tr><td>SMAPE_percentile_75</td><td>12.82839</td></tr><tr><td>SMAPE_percentile_95</td><td>12.82839</td></tr><tr><td>SMAPE_std</td><td>nan</td></tr></table><br/></div></div>"
      ],
      "text/plain": [
       "<IPython.core.display.HTML object>"
      ]
     },
     "metadata": {},
     "output_type": "display_data"
    },
    {
     "data": {
      "text/html": [
       "Synced <strong style=\"color:#cdcd00\">qWRE1BuN</strong>: <a href=\"https://wandb.ai/mstu/RNNModel/runs/12p8o265\" target=\"_blank\">https://wandb.ai/mstu/RNNModel/runs/12p8o265</a><br/>Synced 5 W&B file(s), 4 media file(s), 3 artifact file(s) and 0 other file(s)"
      ],
      "text/plain": [
       "<IPython.core.display.HTML object>"
      ]
     },
     "metadata": {},
     "output_type": "display_data"
    },
    {
     "data": {
      "text/html": [
       "Find logs at: <code>.\\wandb\\run-20240521_172103-12p8o265\\logs</code>"
      ],
      "text/plain": [
       "<IPython.core.display.HTML object>"
      ]
     },
     "metadata": {},
     "output_type": "display_data"
    },
    {
     "name": "stderr",
     "output_type": "stream",
     "text": [
      "\u001b[32m[I 2024-05-21 17:21:28,474]\u001b[0m Trial 0 finished with value: 59.95702482279806 and parameters: {}. Best is trial 0 with value: 59.95702482279806.\u001b[0m\n"
     ]
    }
   ],
   "source": [
    "run_optuna()"
   ]
  },
  {
   "cell_type": "code",
   "execution_count": null,
   "id": "ee610d62-05f7-485c-93ca-a5807fc5afb3",
   "metadata": {},
   "outputs": [],
   "source": []
  }
 ],
 "metadata": {
  "kernelspec": {
   "display_name": "Python 3 (ipykernel)",
   "language": "python",
   "name": "python3"
  },
  "language_info": {
   "codemirror_mode": {
    "name": "ipython",
    "version": 3
   },
   "file_extension": ".py",
   "mimetype": "text/x-python",
   "name": "python",
   "nbconvert_exporter": "python",
   "pygments_lexer": "ipython3",
   "version": "3.10.14"
  }
 },
 "nbformat": 4,
 "nbformat_minor": 5
}
